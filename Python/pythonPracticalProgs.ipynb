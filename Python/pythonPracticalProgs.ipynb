{
 "cells": [
  {
   "cell_type": "code",
   "execution_count": null,
   "metadata": {},
   "outputs": [
    {
     "name": "stdout",
     "output_type": "stream",
     "text": [
      "The sum of the digits of 5 is 5\n",
      "The product of the digits of 5 is 5\n"
     ]
    }
   ],
   "source": [
    "#Q1 \n",
    "# Get user input\n",
    "number = int(input(\"Enter a number: \"))\n",
    "\n",
    "# Initialize variables\n",
    "sum_of_digits = 0\n",
    "product_of_digits = 1\n",
    "remaining_number = abs(number)\n",
    "\n",
    "# Calculate the sum and product of digits\n",
    "while remaining_number > 0:\n",
    "    digit = remaining_number % 10\n",
    "    sum_of_digits += digit\n",
    "    product_of_digits *= digit\n",
    "    remaining_number //= 10\n",
    "\n",
    "# Display the result\n",
    "print(\"The sum of the digits of\", number, \"is\", sum_of_digits)\n",
    "print(\"The product of the digits of\", number, \"is\", product_of_digits)\n",
    "\n"
   ]
  },
  {
   "cell_type": "code",
   "execution_count": null,
   "metadata": {},
   "outputs": [
    {
     "name": "stdout",
     "output_type": "stream",
     "text": [
      "The product of 3.0 and 2.0 is 6.0\n"
     ]
    }
   ],
   "source": [
    "#Q2a\n",
    "# Get user input\n",
    "num1 = float(input(\"Enter the first number: \"))\n",
    "num2 = float(input(\"Enter the second number: \"))\n",
    "\n",
    "# Calculate the product\n",
    "product = num1 * num2\n",
    "\n",
    "# Display the result\n",
    "print(\"The product of\", num1, \"and\", num2, \"is\", product)\n"
   ]
  },
  {
   "cell_type": "code",
   "execution_count": 1,
   "metadata": {},
   "outputs": [
    {
     "name": "stdout",
     "output_type": "stream",
     "text": [
      "The factorial of 6 is 720\n",
      "Enter a number: 5\n",
      "The factorial of 5 is 120\n"
     ]
    }
   ],
   "source": [
    "#Q2b\n",
    "# Get user input\n",
    "number = int(input(\"Enter a number: \"))\n",
    "\n",
    "# Initialize variables\n",
    "factorial = 1\n",
    "\n",
    "# Calculate the factorial\n",
    "if number < 0:\n",
    "    print(\"Factorial is not defined for negative numbers.\")\n",
    "elif number == 0:\n",
    "    print(\"The factorial of 0 is 1.\")\n",
    "else:\n",
    "    for i in range(1, number + 1):\n",
    "        factorial *= i\n",
    "\n",
    "    # Display the result\n",
    "    print(\"The factorial of\", number, \"is\", factorial)\n"
   ]
  },
  {
   "cell_type": "code",
   "execution_count": null,
   "metadata": {},
   "outputs": [
    {
     "name": "stdout",
     "output_type": "stream",
     "text": [
      "Numbers divisible by 7 and not multiples of 5 in the range 2000-3200:\n",
      "[2002, 2009, 2016, 2023, 2037, 2044, 2051, 2058, 2072, 2079, 2086, 2093, 2107, 2114, 2121, 2128, 2142, 2149, 2156, 2163, 2177, 2184, 2191, 2198, 2212, 2219, 2226, 2233, 2247, 2254, 2261, 2268, 2282, 2289, 2296, 2303, 2317, 2324, 2331, 2338, 2352, 2359, 2366, 2373, 2387, 2394, 2401, 2408, 2422, 2429, 2436, 2443, 2457, 2464, 2471, 2478, 2492, 2499, 2506, 2513, 2527, 2534, 2541, 2548, 2562, 2569, 2576, 2583, 2597, 2604, 2611, 2618, 2632, 2639, 2646, 2653, 2667, 2674, 2681, 2688, 2702, 2709, 2716, 2723, 2737, 2744, 2751, 2758, 2772, 2779, 2786, 2793, 2807, 2814, 2821, 2828, 2842, 2849, 2856, 2863, 2877, 2884, 2891, 2898, 2912, 2919, 2926, 2933, 2947, 2954, 2961, 2968, 2982, 2989, 2996, 3003, 3017, 3024, 3031, 3038, 3052, 3059, 3066, 3073, 3087, 3094, 3101, 3108, 3122, 3129, 3136, 3143, 3157, 3164, 3171, 3178, 3192, 3199]\n"
     ]
    }
   ],
   "source": [
    "#Q3a\n",
    "# Initialize an empty list to store the numbers\n",
    "numbers = []\n",
    "\n",
    "# Iterate through the range from 2000 to 3200 (inclusive)\n",
    "for num in range(2000, 3201):\n",
    "    # Check if the number is divisible by 7 and not a multiple of 5\n",
    "    if num % 7 == 0 and num % 5 != 0:\n",
    "        numbers.append(num)\n",
    "\n",
    "# Display the result\n",
    "print(\"Numbers divisible by 7 and not multiples of 5 in the range 2000-3200:\")\n",
    "print(numbers)\n"
   ]
  },
  {
   "cell_type": "code",
   "execution_count": 2,
   "metadata": {},
   "outputs": [
    {
     "name": "stdout",
     "output_type": "stream",
     "text": [
      "List of values entered by user: ['1', '2', '3', '4']\n",
      "Value to be searched: 5\n",
      "5 does not exist in the list.\n"
     ]
    }
   ],
   "source": [
    "#Q3b\n",
    "# Get user input for the list of values\n",
    "values = input(\"Enter a list of values (comma-separated): \").split(\",\")\n",
    "\n",
    "# Get user input for the number to check\n",
    "number = input(\"Enter a number to check: \")\n",
    "\n",
    "# Display the list entered by the user\n",
    "print(\"List of values entered by user:\", values)\n",
    "print(\"Value to be searched:\", number)\n",
    "\n",
    "# Check if the number exists in the list\n",
    "if number in values:\n",
    "    print(number, \"exists in the list.\")\n",
    "else:\n",
    "    print(number, \"does not exist in the list.\")\n",
    "\n"
   ]
  },
  {
   "cell_type": "code",
   "execution_count": 4,
   "metadata": {},
   "outputs": [
    {
     "name": "stdout",
     "output_type": "stream",
     "text": [
      "Unsorted list of numbers:\n",
      "3\n",
      "5\n",
      "1\n",
      "-4\n",
      "10\n",
      "Sorted list of numbers:\n",
      "-4\n",
      "1\n",
      "3\n",
      "5\n",
      "10\n"
     ]
    }
   ],
   "source": [
    "#Q4a\n",
    "# Get user input for the list of numbers\n",
    "numbers = []\n",
    "for i in range(5):\n",
    "    num = int(input(f\"Enter number {i+1}: \"))\n",
    "    numbers.append(num)\n",
    "\n",
    "# Display the unsorted list\n",
    "print(\"Unsorted list of numbers:\")\n",
    "for num in numbers:\n",
    "    print(num)\n",
    "\n",
    "# Sort the list in ascending order\n",
    "numbers.sort()\n",
    "\n",
    "# Display the sorted list\n",
    "print(\"Sorted list of numbers:\")\n",
    "for num in numbers:\n",
    "    print(num)\n",
    "\n"
   ]
  },
  {
   "cell_type": "code",
   "execution_count": null,
   "metadata": {},
   "outputs": [
    {
     "name": "stdout",
     "output_type": "stream",
     "text": [
      "Original list of values: ['3', '4', '6', '7', '8']\n",
      "Value to be inserted: 5\n",
      "Index to insert the value: 1\n",
      "Updated list of values: ['3', '5', '4', '6', '7', '8']\n"
     ]
    }
   ],
   "source": [
    "#Q4b\n",
    "# Get user input for the list of values\n",
    "values = input(\"Enter a list of values (comma-separated): \").split(\",\")\n",
    "\n",
    "# Get user input for the value to insert\n",
    "value = input(\"Enter a value to insert: \")\n",
    "\n",
    "# Get user input for the position to insert the value\n",
    "position = int(input(\"Enter the position to insert the value: \"))\n",
    "\n",
    "# Convert the position to zero-based indexing\n",
    "position -= 1\n",
    "\n",
    "# Print the original list, value to be inserted, and its index\n",
    "print(\"Original list of values:\", values)\n",
    "print(\"Value to be inserted:\", value)\n",
    "print(\"Index to insert the value:\", position)\n",
    "\n",
    "# Insert the value at the specified position\n",
    "values.insert(position, value)\n",
    "\n",
    "# Display the updated list\n",
    "print(\"Updated list of values:\", values)\n"
   ]
  },
  {
   "cell_type": "code",
   "execution_count": 23,
   "metadata": {},
   "outputs": [
    {
     "name": "stdout",
     "output_type": "stream",
     "text": [
      "Elements encountered: [1, 2, 3]\n",
      "Count of elements until the first tuple: 3\n"
     ]
    }
   ],
   "source": [
    "#Q4c\n",
    "elements = [1, 2, 3, (4, 5), 6, 7]\n",
    "\n",
    "# Initialize the count\n",
    "count = 0\n",
    "\n",
    "# List to store elements encountered\n",
    "encountered_elements = []\n",
    "\n",
    "# Iterate through the elements\n",
    "for element in elements:\n",
    "    # Check if the element is a tuple\n",
    "    if isinstance(element, tuple):\n",
    "        break\n",
    "\n",
    "    # Increment the count\n",
    "    count += 1\n",
    "    encountered_elements.append(element)\n",
    "\n",
    "# Display the encountered elements\n",
    "print(\"Elements encountered:\", encountered_elements)\n",
    "\n",
    "# Display the count\n",
    "print(\"Count of elements until the first tuple:\", count)\n",
    "\n",
    "\n",
    "\n"
   ]
  },
  {
   "cell_type": "code",
   "execution_count": 24,
   "metadata": {},
   "outputs": [
    {
     "name": "stdout",
     "output_type": "stream",
     "text": [
      "Updated list of elements: [1, [7, 8, 9], 3, 4, [7, 8, 9], 6]\n"
     ]
    }
   ],
   "source": [
    "#Q5a\n",
    "# Hardcoded list of elements\n",
    "elements = [1, (), 3, 4, (), 6]\n",
    "\n",
    "# New tuple or list to replace the empty tuple\n",
    "replacement = [7, 8, 9]\n",
    "\n",
    "# Iterate through the elements\n",
    "for i in range(len(elements)):\n",
    "    if isinstance(elements[i], tuple) and len(elements[i]) == 0:\n",
    "        elements[i] = replacement\n",
    "\n",
    "# Display the updated list\n",
    "print(\"Updated list of elements:\", elements)\n"
   ]
  },
  {
   "cell_type": "code",
   "execution_count": 25,
   "metadata": {},
   "outputs": [
    {
     "name": "stdout",
     "output_type": "stream",
     "text": [
      "Modified tuple: (1, 2, 3, 4, 6)\n"
     ]
    }
   ],
   "source": [
    "#Q5b\n",
    "# Hardcoded tuple\n",
    "my_tuple = (1, 2, 3, 4, 5)\n",
    "\n",
    "# New value to replace the last element\n",
    "new_value = 6\n",
    "\n",
    "# Convert the tuple to a list\n",
    "my_list = list(my_tuple)\n",
    "\n",
    "# Replace the last element in the list\n",
    "my_list[-1] = new_value\n",
    "\n",
    "# Convert the list back to a tuple\n",
    "modified_tuple = tuple(my_list)\n",
    "\n",
    "# Display the modified tuple\n",
    "print(\"Modified tuple:\", modified_tuple)\n"
   ]
  },
  {
   "cell_type": "code",
   "execution_count": 26,
   "metadata": {},
   "outputs": [
    {
     "name": "stdout",
     "output_type": "stream",
     "text": [
      "User input - Elements: [2, 4, 6, 8, 10]\n",
      "User input - Search Element: 8\n",
      "The element 8 was found at index 3.\n"
     ]
    }
   ],
   "source": [
    "#Q6a\n",
    "# Get user input for the list of elements\n",
    "elements_input = input(\"Enter a list of elements (comma-separated): \")\n",
    "elements = list(map(int, elements_input.split(\",\")))\n",
    "\n",
    "# Get user input for the search element\n",
    "search_element = int(input(\"Enter the element to search for: \"))\n",
    "\n",
    "# Linear search on the list\n",
    "found = False\n",
    "index = -1\n",
    "for i, element in enumerate(elements):\n",
    "    if element == search_element:\n",
    "        found = True\n",
    "        index = i\n",
    "        break\n",
    "\n",
    "# Print the user input\n",
    "print(\"User input - Elements:\", elements)\n",
    "print(\"User input - Search Element:\", search_element)\n",
    "\n",
    "# Print the search result\n",
    "if found:\n",
    "    print(f\"The element {search_element} was found at index {index}.\")\n",
    "else:\n",
    "    print(\"The element was not found in the list.\")\n"
   ]
  },
  {
   "cell_type": "code",
   "execution_count": 28,
   "metadata": {},
   "outputs": [
    {
     "name": "stdout",
     "output_type": "stream",
     "text": [
      "User input - Elements: (1, 2, 3, 4, 5)\n",
      "User input - Search Element: 3\n",
      "The element 3 was found at index 2.\n"
     ]
    }
   ],
   "source": [
    "#Q6a tuple\n",
    "# Get user input for the tuple of elements\n",
    "elements_input = input(\"Enter a tuple of elements (comma-separated): \")\n",
    "elements = tuple(map(int, elements_input.split(\",\")))\n",
    "\n",
    "# Get user input for the search element\n",
    "search_element = int(input(\"Enter the element to search for: \"))\n",
    "\n",
    "# Linear search on the tuple\n",
    "found = False\n",
    "index = -1\n",
    "for i, element in enumerate(elements):\n",
    "    if element == search_element:\n",
    "        found = True\n",
    "        index = i\n",
    "        break\n",
    "\n",
    "# Print the user input\n",
    "print(\"User input - Elements:\", elements)\n",
    "print(\"User input - Search Element:\", search_element)\n",
    "\n",
    "# Print the search result\n",
    "if found:\n",
    "    print(f\"The element {search_element} was found at index {index}.\")\n",
    "else:\n",
    "    print(\"The element was not found in the tuple.\")\n"
   ]
  },
  {
   "cell_type": "code",
   "execution_count": 30,
   "metadata": {},
   "outputs": [
    {
     "name": "stdout",
     "output_type": "stream",
     "text": [
      "Number of terms requested: 5\n",
      "Fibonacci series:\n",
      "0 1 1 2 3 "
     ]
    }
   ],
   "source": [
    "#Q6b\n",
    "# Function to generate and print Fibonacci series\n",
    "def fibonacciSeries(n):\n",
    "    # Initialize the first two numbers in the series\n",
    "    fibSeries = [0, 1]\n",
    "\n",
    "    # Generate the Fibonacci series\n",
    "    for i in range(2, n):\n",
    "        fibNum = fibSeries[i - 1] + fibSeries[i - 2]\n",
    "        fibSeries.append(fibNum)\n",
    "\n",
    "    # Print the Fibonacci series\n",
    "    for num in fibSeries:\n",
    "        print(num, end=\" \")\n",
    "\n",
    "# Get user input for the number of terms in the series\n",
    "n = int(input(\"Enter the number of terms in the Fibonacci series: \"))\n",
    "\n",
    "print(f\"Number of terms requested: {n}\")\n",
    "\n",
    "# Print the Fibonacci series\n",
    "print(\"Fibonacci series:\")\n",
    "fibonacciSeries(n)\n"
   ]
  },
  {
   "cell_type": "code",
   "execution_count": 32,
   "metadata": {},
   "outputs": [
    {
     "name": "stdout",
     "output_type": "stream",
     "text": [
      "State code entered: TL\n",
      "\n",
      "State name: Telangana\n"
     ]
    }
   ],
   "source": [
    "#Q7\n",
    "def findFullName(str):\n",
    "    states ={\n",
    "    \"Delhi\": \"DL\",\n",
    "    \"Punjab\": \"PJ\",\n",
    "    \"Uttar Pradesh\": \"UP\",\n",
    "    \"Madhya Pradesh\": \"MP\",\n",
    "    \"Telangana\": \"TL\",\n",
    "    \"Himachal Pradesh\": \"HP\"    \n",
    "    }\n",
    "        \n",
    "    for x,y in states.items():\n",
    "        if(y==str):\n",
    "          return x\n",
    "          \n",
    "        \n",
    "    return \"\"\n",
    "        \n",
    "        \n",
    "name = (input(\"Enter state code:\"))\n",
    "fullName = findFullName(name)\n",
    "print(f\"State code entered: {name}\")\n",
    "if(fullName==\"\"):\n",
    "  print(\"\\nState not found\")\n",
    "else:\n",
    "  print(\"\\nState name:\", fullName)\n"
   ]
  },
  {
   "cell_type": "code",
   "execution_count": 33,
   "metadata": {},
   "outputs": [
    {
     "name": "stdout",
     "output_type": "stream",
     "text": [
      "2 to the power of 0 is 1\n",
      "2 to the power of 1 is 2\n",
      "2 to the power of 2 is 4\n",
      "2 to the power of 3 is 8\n",
      "2 to the power of 4 is 16\n",
      "2 to the power of 5 is 32\n",
      "2 to the power of 6 is 64\n",
      "2 to the power of 7 is 128\n",
      "2 to the power of 8 is 256\n",
      "2 to the power of 9 is 512\n",
      "2 to the power of 10 is 1024\n",
      "2 to the power of 11 is 2048\n",
      "2 to the power of 12 is 4096\n"
     ]
    }
   ],
   "source": [
    "#Q8\n",
    "def powers_of_two():\n",
    "    exponent = 0\n",
    "    LAST = 12\n",
    "    while exponent <= LAST:\n",
    "        print(f\"2 to the power of {exponent} is {2**exponent}\")\n",
    "        exponent += 1\n",
    "\n",
    "powers_of_two()"
   ]
  },
  {
   "cell_type": "code",
   "execution_count": 5,
   "metadata": {},
   "outputs": [
    {
     "name": "stdout",
     "output_type": "stream",
     "text": [
      "Entered string: hellO WoRlD\n",
      "Upper case form:  HELLO WORLD\n"
     ]
    }
   ],
   "source": [
    "#Q8\n",
    "def toUpperCase(input_str):\n",
    "    upperString=\"\"\n",
    "    for x in input_str:\n",
    "        if(ord(x)>=97 and ord(x)<=122):\n",
    "         upperString += chr(ord(x)-32) # adding the uppercase character to the string\n",
    "        else:\n",
    "         upperString += x\n",
    "    return upperString\n",
    "\n",
    "input_str = input(\"Enter string to be converted to uppercase: \")\n",
    "upperStr = toUpperCase(input_str)\n",
    "print(f\"Entered string: {input_str}\")\n",
    "print(\"Upper case form: \", upperStr)\n"
   ]
  },
  {
   "cell_type": "code",
   "execution_count": 35,
   "metadata": {},
   "outputs": [
    {
     "name": "stdout",
     "output_type": "stream",
     "text": [
      "Employee name: Abhi\n",
      "Employee salary: 50000\n"
     ]
    }
   ],
   "source": [
    "#Q9\n",
    "def showEmployee(employeeName, employeeSalary=50000):\n",
    "    \"\"\"Prints the employee's name and salary\"\"\"\n",
    "    print(f\"Employee name: {employeeName}\")\n",
    "    print(f\"Employee salary: {employeeSalary}\")\n",
    "\n",
    "employeeName = input(\"Enter employee name: \")\n",
    "employeeSalary = input(\"Enter employee salary (press enter for default value 50000): \")\n",
    "\n",
    "if employeeSalary == \"\":\n",
    "    showEmployee(employeeName)\n",
    "else:\n",
    "    showEmployee(employeeName, int(employeeSalary))\n"
   ]
  },
  {
   "cell_type": "code",
   "execution_count": 37,
   "metadata": {},
   "outputs": [
    {
     "name": "stdout",
     "output_type": "stream",
     "text": [
      "String entered: Hello-World-How-Are-We-Doing\n",
      "Sorted words: Are-Doing-Hello-How-We-World\n"
     ]
    }
   ],
   "source": [
    "#Q10a\n",
    "def hyphenSeparatedSort():\n",
    "    words = input(\"Enter hyphen-separated words: \")\n",
    "    print(f\"String entered: {words}\")\n",
    "    wordsList = words.split(\"-\")\n",
    "    wordsList.sort(key=str.lower)\n",
    "    sortedWords = \"-\".join(wordsList)\n",
    "    print(f\"Sorted words: {sortedWords}\")\n",
    "\n",
    "hyphenSeparatedSort()"
   ]
  },
  {
   "cell_type": "code",
   "execution_count": 6,
   "metadata": {},
   "outputs": [
    {
     "name": "stdout",
     "output_type": "stream",
     "text": [
      "Current Date: 2023-05-24\n",
      "New Date: 2023-05-29\n"
     ]
    }
   ],
   "source": [
    "#Q10b\n",
    "from datetime import datetime, timedelta\n",
    "\n",
    "# Get the current date\n",
    "current_date = datetime.now().date()\n",
    "\n",
    "# Number of days to add\n",
    "days_to_add = 5\n",
    "\n",
    "# Add days to the current date\n",
    "new_date = current_date + timedelta(days=days_to_add)\n",
    "\n",
    "# Print the resulting date\n",
    "print(\"Current Date:\", current_date)\n",
    "print(\"New Date:\", new_date)\n"
   ]
  },
  {
   "cell_type": "code",
   "execution_count": 42,
   "metadata": {},
   "outputs": [
    {
     "name": "stdout",
     "output_type": "stream",
     "text": [
      "List 1: ['2', '3', '4', '5', '6']\n",
      "List 2: ['2', '3', '4', '5', '7']\n",
      "The lists are not equal.\n"
     ]
    },
    {
     "data": {
      "text/plain": [
       "False"
      ]
     },
     "execution_count": 42,
     "metadata": {},
     "output_type": "execute_result"
    }
   ],
   "source": [
    "#q11\n",
    "def check_lists_equal():\n",
    "    # Take two lists as input from the user\n",
    "    list1 = input(\"Enter the first list (comma-separated): \").split(\",\")\n",
    "    list2 = input(\"Enter the second list (comma-separated): \").split(\",\")\n",
    "    \n",
    "    print(f\"List 1: {list1}\")\n",
    "    print(f\"List 2: {list2}\")\n",
    "    # Check if the lists are equal\n",
    "    if len(list1) != len(list2):\n",
    "        print(\"The lists are not equal.\")\n",
    "        return False\n",
    "    else:\n",
    "        for i in range(len(list1)):\n",
    "            if list1[i] != list2[i]:\n",
    "                print(\"The lists are not equal.\")\n",
    "                return False\n",
    "        print(\"The lists are equal.\")\n",
    "        return True\n",
    "\n",
    "check_lists_equal()"
   ]
  },
  {
   "cell_type": "code",
   "execution_count": 44,
   "metadata": {},
   "outputs": [
    {
     "name": "stdout",
     "output_type": "stream",
     "text": [
      "Number of rows entered: 5\n",
      "* * * * * \n",
      "* * * * * \n",
      "* * * * * \n",
      "* * * * * \n",
      "* * * * * \n"
     ]
    }
   ],
   "source": [
    "#q12a\n",
    "num = int(input(\"Enter number of rows: \"))\n",
    "print(f\"Number of rows entered: {num}\")\n",
    "\n",
    "for i in range(0,num):\n",
    "    print(\"* \"*num)"
   ]
  },
  {
   "cell_type": "code",
   "execution_count": 45,
   "metadata": {},
   "outputs": [
    {
     "name": "stdout",
     "output_type": "stream",
     "text": [
      "Number of rows entered: 5\n",
      "1 1 1 1 1 \n",
      "2 2 2 2 2 \n",
      "3 3 3 3 3 \n",
      "4 4 4 4 4 \n",
      "5 5 5 5 5 \n"
     ]
    }
   ],
   "source": [
    "#q12b\n",
    "num = int(input(\"Enter number of rows: \"))\n",
    "print(f\"Number of rows entered: {num}\")\n",
    "for i in range(1,num+1):\n",
    "        for j in range(0,num):\n",
    "            print(i, end=\" \")\n",
    "        print()"
   ]
  },
  {
   "cell_type": "code",
   "execution_count": 46,
   "metadata": {},
   "outputs": [
    {
     "name": "stdout",
     "output_type": "stream",
     "text": [
      "Number of rows entered: 7\n",
      "1 2 3 4 5 6 7 \n",
      "1 2 3 4 5 6 7 \n",
      "1 2 3 4 5 6 7 \n",
      "1 2 3 4 5 6 7 \n",
      "1 2 3 4 5 6 7 \n",
      "1 2 3 4 5 6 7 \n",
      "1 2 3 4 5 6 7 \n"
     ]
    }
   ],
   "source": [
    "#q12c\n",
    "num = int(input(\"Enter number of rows: \"))\n",
    "print(f\"Number of rows entered: {num}\")\n",
    "for i in range(1,num+1):\n",
    "        for j in range(1,num+1):\n",
    "            print(j, end=\" \")\n",
    "        print()"
   ]
  },
  {
   "cell_type": "code",
   "execution_count": 47,
   "metadata": {},
   "outputs": [
    {
     "name": "stdout",
     "output_type": "stream",
     "text": [
      "Number of rows entered: 7\n",
      "A A A A A A A \n",
      "B B B B B B B \n",
      "C C C C C C C \n",
      "D D D D D D D \n",
      "E E E E E E E \n",
      "F F F F F F F \n",
      "G G G G G G G \n"
     ]
    }
   ],
   "source": [
    "#q12d\n",
    "num = int(input(\"Enter number of rows: \"))\n",
    "print(f\"Number of rows entered: {num}\")\n",
    "for i in range(1,num+1):\n",
    "        for j in range(1,num+1):\n",
    "            print(chr(64+i), end=\" \")\n",
    "        print()"
   ]
  },
  {
   "cell_type": "code",
   "execution_count": 51,
   "metadata": {},
   "outputs": [
    {
     "name": "stdout",
     "output_type": "stream",
     "text": [
      "Number of rows entered: 7\n",
      "*\n",
      "**\n",
      "***\n",
      "****\n",
      "*****\n",
      "******\n",
      "*******\n"
     ]
    }
   ],
   "source": [
    "#q12e\n",
    "num = int(input(\"Enter number of rows: \"))\n",
    "print(f\"Number of rows entered: {num}\")\n",
    "for i in range(1,num+1):\n",
    "    print(\"*\"*i)\n",
    "    "
   ]
  },
  {
   "cell_type": "code",
   "execution_count": 52,
   "metadata": {},
   "outputs": [
    {
     "name": "stdout",
     "output_type": "stream",
     "text": [
      "Number of rows entered: 7\n",
      "       *\n",
      "      **\n",
      "     ***\n",
      "    ****\n",
      "   *****\n",
      "  ******\n",
      " *******\n"
     ]
    }
   ],
   "source": [
    "#q12f\n",
    "num = int(input(\"Enter number of rows: \"))\n",
    "print(f\"Number of rows entered: {num}\")\n",
    "for i in range(1,num+1):\n",
    "    print(\" \"* (num-i),\"*\"*i)"
   ]
  },
  {
   "cell_type": "code",
   "execution_count": 53,
   "metadata": {},
   "outputs": [
    {
     "name": "stdout",
     "output_type": "stream",
     "text": [
      "Number of rows entered: 7\n",
      "       *  \n",
      "      * *  \n",
      "     * * *  \n",
      "    * * * *  \n",
      "   * * * * *  \n",
      "  * * * * * *  \n",
      " * * * * * * *  \n"
     ]
    }
   ],
   "source": [
    "#q12g\n",
    "n=int(input(\"Enter the number of rows: \"))\n",
    "print(f\"Number of rows entered: {num}\")\n",
    "for i in range(1,n+1):\n",
    " print(\" \"*(n-i),\"* \"*i,end=\" \")\n",
    " print()"
   ]
  },
  {
   "cell_type": "code",
   "execution_count": 56,
   "metadata": {},
   "outputs": [
    {
     "name": "stdout",
     "output_type": "stream",
     "text": [
      "Number of rows entered: 7\n",
      "* * * * * * * \n",
      " * * * * * * \n",
      "  * * * * * \n",
      "   * * * * \n",
      "    * * * \n",
      "     * * \n",
      "      * \n"
     ]
    }
   ],
   "source": [
    "#q12h\n",
    "num = int(input(\"Enter a number: \"))\n",
    "print(f\"Number of rows entered: {num}\")\n",
    "for i in range(num, 0, -1):\n",
    "    print(\" \" * (num - i), end=\"\")\n",
    "    for j in range(i, 0, -1):\n",
    "        print(\"*\", end=\" \")\n",
    "    print()\n"
   ]
  },
  {
   "cell_type": "code",
   "execution_count": 60,
   "metadata": {},
   "outputs": [
    {
     "name": "stdout",
     "output_type": "stream",
     "text": [
      "Number of rows entered: 5\n",
      "1 1 1 1 1 \n",
      " 2 2 2 2 \n",
      "  3 3 3 \n",
      "   4 4 \n",
      "    5 \n"
     ]
    }
   ],
   "source": [
    "#q12i\n",
    "num = int(input(\"Enter a number: \"))\n",
    "print(f\"Number of rows entered: {num}\")\n",
    "for i in range(1, num + 1):\n",
    "    print(\" \" * (i - 1), end=\"\")\n",
    "    for j in range(0, num + 1 - i):\n",
    "        print(i, end=\" \")\n",
    "    print()\n"
   ]
  },
  {
   "cell_type": "code",
   "execution_count": 61,
   "metadata": {},
   "outputs": [
    {
     "name": "stdout",
     "output_type": "stream",
     "text": [
      "User input: hello World!\n",
      "Reversed input: !dlroW olleh\n"
     ]
    }
   ],
   "source": [
    "#q13\n",
    "def reverse_string(string):\n",
    "    return string[::-1]\n",
    "\n",
    "# Get user input for the string\n",
    "input_string = input(\"Enter a string: \")\n",
    "\n",
    "# Call the function to reverse the string\n",
    "reversed_string = reverse_string(input_string)\n",
    "\n",
    "# Print the user input and the reversed input\n",
    "print(\"User input:\", input_string)\n",
    "print(\"Reversed input:\", reversed_string)\n"
   ]
  },
  {
   "cell_type": "code",
   "execution_count": 62,
   "metadata": {},
   "outputs": [
    {
     "name": "stdout",
     "output_type": "stream",
     "text": [
      "User input - First number: 18\n",
      "User input - Second number: 12\n",
      "GCD: 6\n"
     ]
    }
   ],
   "source": [
    "#q14a\n",
    "def gcd_recursive(a, b):\n",
    "    if b == 0:\n",
    "        return a\n",
    "    else:\n",
    "        return gcd_recursive(b, a % b)\n",
    "\n",
    "# Get user input for the two numbers\n",
    "num1 = int(input(\"Enter the first number: \"))\n",
    "num2 = int(input(\"Enter the second number: \"))\n",
    "\n",
    "# Print the user input\n",
    "print(\"User input - First number:\", num1)\n",
    "print(\"User input - Second number:\", num2)\n",
    "\n",
    "# Call the recursive function to compute the GCD\n",
    "gcd = gcd_recursive(num1, num2)\n",
    "\n",
    "# Print the computed GCD\n",
    "print(\"GCD:\", gcd)\n"
   ]
  },
  {
   "cell_type": "code",
   "execution_count": 63,
   "metadata": {},
   "outputs": [
    {
     "name": "stdout",
     "output_type": "stream",
     "text": [
      "The factorial of 7 is 5040\n"
     ]
    }
   ],
   "source": [
    "#Q14b\n",
    "def factorialRecursion(num):\n",
    "    if num == 0:\n",
    "        return 1\n",
    "    else:\n",
    "        return num * factorialRecursion(num-1)\n",
    "\n",
    "num = int(input(\"Enter a number: \"))\n",
    "result = factorialRecursion(num)\n",
    "print(f\"The factorial of {num} is {result}\")"
   ]
  },
  {
   "cell_type": "code",
   "execution_count": 64,
   "metadata": {},
   "outputs": [
    {
     "name": "stdout",
     "output_type": "stream",
     "text": [
      "The decimal value of 18 is:\n",
      "0b10010 in binary.\n",
      "0o22 in octal.\n",
      "0x12 in hexadecimal.\n"
     ]
    }
   ],
   "source": [
    "#Q15aa\n",
    "# Python program to convert decimal into other number systems\n",
    "dec = int(input(\"Enter value: \"))\n",
    "print(\"The decimal value of\", dec, \"is:\")\n",
    "print(bin(dec), \"in binary.\")\n",
    "print(oct(dec), \"in octal.\")\n",
    "print(hex(dec), \"in hexadecimal.\")\n"
   ]
  },
  {
   "cell_type": "code",
   "execution_count": 68,
   "metadata": {},
   "outputs": [
    {
     "name": "stdout",
     "output_type": "stream",
     "text": [
      "Select operation 1-Division, 2-Multiplication, 3-Addition, 4-Subtraction\n",
      "5 - 10 = -5\n"
     ]
    }
   ],
   "source": [
    "#Q15b\n",
    "def multiplication(num1, num2):\n",
    " return num1 * num2\n",
    "\n",
    "def addition(num1, num2):\n",
    " return num1 + num2\n",
    "def subtraction(num1, num2):\n",
    " return num1 - num2\n",
    "\n",
    "def divide(num1, num2):\n",
    " return num1 / num2\n",
    "\n",
    "value1 = int(input(\"Enter 1st number: \"))\n",
    "value2 = int(input(\"Enter 2nd number: \"))\n",
    "print(\"Select operation 1-Division, 2-Multiplication, 3-Addition, 4-Subtraction\")\n",
    "operation = int(input(\"Choose operation 1/2/3/4: \"))\n",
    "\n",
    "if operation == 1:\n",
    " print(value1, \"/\", value2, \"=\", divide(value1, value2))\n",
    "elif operation == 2:\n",
    " print(value1, \"*\", value2, \"=\", multiplication(value1, value2))\n",
    "elif operation == 3:\n",
    " print(value1, \"+\", value2, \"=\", addition(value1, value2))\n",
    "elif operation == 4:\n",
    " print(value1, \"-\", value2, \"=\", subtraction(value1, value2))\n",
    "else:\n",
    " print(\"Enter correct operation\")"
   ]
  },
  {
   "cell_type": "code",
   "execution_count": 1,
   "metadata": {},
   "outputs": [
    {
     "name": "stdout",
     "output_type": "stream",
     "text": [
      "Entered base: 3.0\n",
      "Entered perpendicular: 4.0\n",
      "Entered hypotenuse: 5.0\n",
      "It's a right triangle\n"
     ]
    }
   ],
   "source": [
    "#Q16\n",
    "base=float(input(\"Enter length of Base : \"))\n",
    "perp=float(input(\"Enter length of Perpendicular : \"))\n",
    "hypo=float(input(\"Enter length of Hypotenuse : \"))\n",
    "print(f\"Entered base: {base}\")\n",
    "print(f\"Entered perpendicular: {perp}\")\n",
    "print(f\"Entered hypotenuse: {hypo}\")\n",
    "if hypo**2==((base**2)+(perp**2)):\n",
    " print(\"It's a right triangle\")\n",
    "else:\n",
    " print(\"It's not a right triangle\")\n"
   ]
  },
  {
   "cell_type": "code",
   "execution_count": null,
   "metadata": {},
   "outputs": [],
   "source": [
    "#Q17 module\n",
    "def fibonacci(n):\n",
    "    fib_sequence = []\n",
    "    a, b = 0, 1\n",
    "    for _ in range(n):\n",
    "        fib_sequence.append(a)\n",
    "        a, b = b, a + b\n",
    "    return fib_sequence"
   ]
  },
  {
   "cell_type": "code",
   "execution_count": 2,
   "metadata": {},
   "outputs": [
    {
     "name": "stdout",
     "output_type": "stream",
     "text": [
      "Enter the number of Fibonacci numbers to generate: 5\n",
      "User input - Number of Fibonacci numbers: 5\n",
      "Fibonacci sequence: [0, 1, 1, 2, 3]\n"
     ]
    }
   ],
   "source": [
    "#Q17 code\n",
    "import fiboModule\n",
    "\n",
    "# Get user input for the number of Fibonacci numbers to generate\n",
    "n = int(input(\"Enter the number of Fibonacci numbers to generate: \"))\n",
    "print(\"User input - Number of Fibonacci numbers:\", n)\n",
    "\n",
    "# Call the fibonacci function from the imported module\n",
    "fib_sequence = fiboModule.fibonacci(n)\n",
    "\n",
    "# Print the Fibonacci sequence\n",
    "print(\"Fibonacci sequence:\", fib_sequence)\n"
   ]
  },
  {
   "cell_type": "code",
   "execution_count": null,
   "metadata": {},
   "outputs": [],
   "source": []
  },
  {
   "cell_type": "code",
   "execution_count": null,
   "metadata": {},
   "outputs": [],
   "source": []
  },
  {
   "cell_type": "code",
   "execution_count": 73,
   "metadata": {},
   "outputs": [
    {
     "name": "stdout",
     "output_type": "stream",
     "text": [
      "User input - Numerator: 18.0\n",
      "User input - Denominator: 6.0\n",
      "3.0\n"
     ]
    }
   ],
   "source": [
    "#Q18a\n",
    "def div(a, b):\n",
    "    print(\"User input - Numerator:\", a)\n",
    "    print(\"User input - Denominator:\", b)\n",
    "    print(a / b)\n",
    "\n",
    "def new_div(func):\n",
    "    def inner(a, b):\n",
    "        if a < b:\n",
    "            a, b = b, a\n",
    "        return func(a, b)\n",
    "    return inner\n",
    "\n",
    "div1 = new_div(div)\n",
    "\n",
    "# Get user input for the numerator and denominator\n",
    "numerator = float(input(\"Enter the numerator: \"))\n",
    "denominator = float(input(\"Enter the denominator: \"))\n",
    "\n",
    "# Call the decorated division function\n",
    "div1(numerator, denominator)"
   ]
  },
  {
   "cell_type": "code",
   "execution_count": 75,
   "metadata": {},
   "outputs": [
    {
     "name": "stdout",
     "output_type": "stream",
     "text": [
      "User input - Numerator: 18.0\n",
      "User input - Denominator: 6.0\n",
      "3.0\n"
     ]
    }
   ],
   "source": [
    "#Q18b\n",
    "def div(a, b):\n",
    "    print(\"User input - Numerator:\", a)\n",
    "    print(\"User input - Denominator:\", b)\n",
    "    print(a / b)\n",
    "\n",
    "def new_div(func):\n",
    "    def inner(a, b):\n",
    "        if a < b:\n",
    "            a, b = b, a\n",
    "        return func(a, b)\n",
    "    return inner\n",
    "\n",
    "div1 = new_div(div)\n",
    "\n",
    "# Create an iterator to get user input for numerator and denominator\n",
    "inputs = iter(input(\"Enter the numerator and denominator (space-separated): \").split())\n",
    "\n",
    "# Get the numerator and denominator from the iterator\n",
    "numerator = float(next(inputs))\n",
    "denominator = float(next(inputs))\n",
    "\n",
    "# Call the decorated division function\n",
    "div1(numerator, denominator)\n"
   ]
  },
  {
   "cell_type": "code",
   "execution_count": null,
   "metadata": {},
   "outputs": [],
   "source": [
    "#Q19 module calc.py\n",
    "def mult(a,b): print(a*b)\n",
    "\n",
    "def add(a,b): print(a+b)\n",
    "\n",
    "def subt(a,b): print(a-b)\n",
    "\n",
    "def div(a,b): print(a/b)\n",
    "\n"
   ]
  },
  {
   "cell_type": "code",
   "execution_count": null,
   "metadata": {},
   "outputs": [],
   "source": [
    "#Q19 Driver.py\n",
    "from calc import add add(56,42)"
   ]
  },
  {
   "cell_type": "code",
   "execution_count": null,
   "metadata": {},
   "outputs": [],
   "source": [
    "#Q20\n",
    "def read_line_by_line(file_name): with open(file_name, 'r') as file:\n",
    "line = file.readline() while line:\n",
    "print(line.strip()) line = file.readline()\n",
    "\n",
    "def read_all_lines(file_name): with open(file_name, 'r') as file:\n",
    "lines = file.readlines() for line in lines:\n",
    "print(line.strip())\n",
    "\n",
    "\n",
    "def write_line(file_name, text): with open(file_name, 'a') as file:\n",
    "file.write(text + '\\n')\n",
    "\n",
    "\n",
    "def write_lines(file_name, lines): with open(file_name, 'a') as file:\n",
    "file.writelines(lines)\n",
    "\n",
    "\n",
    "file_name = 'example.txt'\n",
    " \n",
    "\n",
    "print(\"Reading line by line:\") read_line_by_line(file_name) print()\n",
    "\n",
    "print(\"Reading all lines:\") read_all_lines(file_name) print()\n",
    "\n",
    "print(\"Writing a line:\") write_line(file_name, \"This is a new line.\") print(\"Line written successfully.\")\n",
    "print()\n",
    "\n",
    "\n",
    "print(\"Writing multiple lines:\") lines_to_write = [\n",
    "\"Line 1\",\n",
    "\"Line 2\",\n",
    "\"Line 3\"\n",
    "]\n",
    "write_lines(file_name, lines_to_write) print(\"Lines written successfully.\") print()\n",
    "\n",
    "print(\"Reading all lines after writing:\")\n",
    " \n",
    "read_all_lines(file_name)\n"
   ]
  },
  {
   "cell_type": "code",
   "execution_count": null,
   "metadata": {},
   "outputs": [],
   "source": [
    "#21.\ta) Write a Python class to reverse a string word by word.\n",
    "\n",
    "\n",
    "print(\" \".join(input(\"Enter a sentence : \").split(\" \")[::-1]))\n"
   ]
  },
  {
   "cell_type": "code",
   "execution_count": null,
   "metadata": {},
   "outputs": [],
   "source": [
    "#21b.) write a program to show multiple inheritance in python\n",
    "class Engine():\n",
    "def hasEngine(self,model): print(f\"Has {model} Engine...\")\n",
    "\n",
    "class Wheels():\n",
    "def hasWheels(self,n): print(f\"Has {n} Wheels\")\n",
    "\n",
    "class Vehicle(Engine,Wheels):\n",
    "def init (self,e=\"v5\",w=4,type = \"Car\"): print(f\"This is a {type}\") Engine.hasEngine(self,e) Wheels.hasWheels(self,w)\n",
    "\n",
    "\n",
    "car = Vehicle(\"v7\",4,\"Car\")\n",
    "bike = Vehicle(\"350cc\",2,\"Bike\")\n"
   ]
  },
  {
   "cell_type": "code",
   "execution_count": null,
   "metadata": {},
   "outputs": [],
   "source": [
    "\"\"\"22.\tDemonstrate the following functions/methods which operates on dictionary in Python with suitable examples:\n",
    "i) dict( ) ii) len( ) iii) clear( ) iv) get( )\n",
    "v) pop( ) vi)popitem( ) vii) keys( ) viii) values()\n",
    "ix) items( ) x) copy( ) xi) update( )\"\"\"\n",
    "\n",
    "\n",
    "# dict() is used to create a dictionary using dict() function\n",
    "# it can take kwargs as arguments or it can take a dictionary as it's arguents and return a dictionary\n",
    "d = dict(yash=78,Harshit=90,Gaurav=33) print(d)\n",
    "\n",
    "# len() is used to find the no. of keys available in a dictionary print(len(d))\n",
    "\n",
    "# clear() is used to clear the dictionary. It will delete all keys and values in the dictionary\n",
    "d.clear()\n",
    "\n",
    "\n",
    "# get() is used to get a value of a key if the key doesn't exists then it returns a default value.\n",
    "d = dict(yash=78,Harshit=90,Gaurav=33) print(d.get('yash')) print(d.get(\"Test\",\"Not found!\"))\n",
    " \n",
    "# pop() it will remove the provided key and it's value from the dictionary and returns it's value\n",
    "print(d.pop('Gaurav')) print(d)\n",
    "\n",
    "# popitem() will remove the last inserted element from the dictionary. print(d.popitem())\n",
    "print(d)\n",
    "\n",
    "\n",
    "# keys() method returns a view object that contains all the keys in a dictionary. d = dict(yash=78,Harshit=90,Gaurav=33)\n",
    "print(d.keys())\n",
    "\n",
    "\n",
    "# values() method returns a view object that contains all the values in a dictionary.\n",
    "print(d.values())\n",
    "\n",
    "\n",
    "# items method returns a view object that contains all the key-value pairs in a dictionary as tuples.\n",
    "print(d.items())\n",
    "\n",
    "\n",
    "# copy() method creates a shallow copy of a dictionary. d1 = d.copy()\n",
    "print(d1)\n",
    " \n",
    "# update() method updates a dictionary with the key-value pairs from another dictionary or iterable.\n",
    "d.update(yash=87) print(d)\n",
    "\n"
   ]
  },
  {
   "cell_type": "code",
   "execution_count": null,
   "metadata": {},
   "outputs": [],
   "source": [
    "#23.\tDemonstrate the following functions/methods which operates on sets in Python with suitable examples:\n",
    "#i) add( ) ii) update( ) iii) copy( ) iv) pop( )\n",
    "#v) remove( ) vi)discard( ) vii) clear( ) viii) union()\n",
    "#ix) intersection( ) x) difference( )\n",
    "\n",
    "\n",
    "# add() - This method adds an element to a set. my_set = {1, 2, 3}\n",
    "my_set.add(4)\n",
    "print(my_set) # Output: {1, 2, 3, 4}\n",
    "\n",
    "\n",
    "# update() - This method adds multiple elements to a set. my_set = {1, 2, 3}\n",
    "my_set.update([4, 5, 6])\n",
    "print(my_set) # Output: {1, 2, 3, 4, 5, 6}\n",
    "\n",
    "\n",
    "# copy() - This method creates a shallow copy of a set. my_set = {1, 2, 3}\n",
    "new_set = my_set.copy() print(new_set) # Output: {1, 2, 3}\n",
    "\n",
    "# pop() - This method removes and returns an arbitrary element from a set. my_set = {1, 2, 3, 4, 5}\n",
    "element = my_set.pop()\n",
    "print(element) # Output: (randomly selected element)\n",
    " \n",
    "print(my_set) # Output: {2, 3, 4, 5} (the set with the popped element removed)\n",
    "\n",
    "\n",
    "# remove() - This method removes a specific element from a set. If the element is not present, it raises a KeyError.\n",
    "my_set = {1, 2, 3, 4, 5} my_set.remove(3)\n",
    "print(my_set) # Output: {1, 2, 4, 5}\n",
    "\n",
    "\n",
    "# discard() - This method removes a specific element from a set. If the element is not present, it does nothing.\n",
    "my_set = {1, 2, 3, 4, 5} my_set.discard(3)\n",
    "print(my_set) # Output: {1, 2, 4, 5}\n",
    "\n",
    "\n",
    "# clear() - This method removes all the elements from a set. my_set = {1, 2, 3, 4, 5}\n",
    "my_set.clear()\n",
    "print(my_set) # Output: set()\n",
    "\n",
    "\n",
    "# union() - This method returns a new set that contains all the elements from two or more sets.\n",
    "set1 = {1, 2, 3}\n",
    "set2 = {3, 4, 5}\n",
    "union_set = set1.union(set2) print(union_set) # Output: {1, 2, 3, 4, 5}\n",
    " \n",
    "# intersection() - This method returns a new set that contains the common elements between two or more sets.\n",
    "set1 = {1, 2, 3}\n",
    "set2 = {2, 3, 4}\n",
    "intersection_set = set1.intersection(set2) print(intersection_set) # Output: {2, 3}\n",
    "\n",
    "# difference() - This method returns a new set that contains the elements present in the first set but not in the second set.set1 = {1, 2, 3, 4}\n",
    "set2 = {2, 3, 5}\n",
    "difference_set = set1.difference(set2) print(difference_set) # Output: {1\n",
    "\n",
    "\n",
    "\n"
   ]
  },
  {
   "cell_type": "code",
   "execution_count": null,
   "metadata": {},
   "outputs": [],
   "source": [
    "#24.\tDemonstrate lambda functions in Python with suitable example programs.\n",
    "\n",
    "# Adding two numbers using a lambda function. add = lambda x, y: x + y\n",
    "result = add(5, 3)\n",
    "print(f\"Addition of 5,3 is : {result}\")\n",
    "\n",
    "\n",
    "# Finding the square of a number using a lambda function. square = lambda x: x**2\n",
    "result = square(4)\n",
    "print(f\"Square of 4 is : {result}\") # Output: 16\n",
    "\n",
    "\n"
   ]
  },
  {
   "cell_type": "code",
   "execution_count": null,
   "metadata": {},
   "outputs": [],
   "source": [
    "#25.\tExplain following commands in pandas libaray.\n",
    "#Query() , head(), shape() , Describe() , Tail(), iloc(0, loc(), drop(), min(0 , Max()\n",
    "\n",
    "\n",
    "import pandas as pd\n",
    "\n",
    "\n",
    "# query() - This method in Pandas allows you to filter rows from a DataFrame # based on a specified condition.\n",
    "# It takes a string containing an expression that represents the filtering condition.\n",
    "df = pd.DataFrame({'A': [1, 2, 3], 'B': [4, 5, 6]})\n",
    "filtered_df = df.query('A > 2') print(filtered_df)\n",
    "\n",
    "# head() - This method returns the first n rows of a DataFrame or Series. By default, it returns the first 5 rows.\n",
    "df = pd.DataFrame({'A': [1, 2, 3, 4, 5], 'B': ['a', 'b', 'c', 'd', 'e']})\n",
    "print(df.head(3))\n",
    "\n",
    "\n",
    "# shape() - This attribute returns a tuple representing the dimensions of a DataFrame or Series.\n",
    "# It returns the number of rows and columns in the object. df = pd.DataFrame({'A': [1, 2, 3], 'B': [4, 5, 6]})\n",
    "print(df.shape)\n",
    "\n",
    "\n",
    "# describe() - This method generates descriptive statistics of a DataFrame or Series.\n",
    " \n",
    "# It provides statistical summary measures such as count, mean, standard deviation, minimum, quartiles, and maximum.\n",
    "df = pd.DataFrame({'A': [1, 2, 3, 4, 5]}) print(df.describe())\n",
    "\n",
    "# tail() - This method returns the last n rows of a DataFrame or Series. By default, it returns the last 5 rows.\n",
    "df = pd.DataFrame({'A': [1, 2, 3, 4, 5], 'B': ['a', 'b', 'c', 'd', 'e']})\n",
    "print(df.tail(3))\n",
    "\n",
    "\n",
    "# iloc[] - This indexing operator allows you to access DataFrame or Series elements by integer-based indexing.\n",
    "# It accepts integer values or slices to select specific rows or columns. df = pd.DataFrame({'A': [1, 2, 3], 'B': [4, 5, 6]})\n",
    "print(df.iloc[0]) # Accessing the first row print(df.iloc[:, 1]) # Accessing the second column\n",
    "\n",
    "# loc[] - This indexing operator allows you to access DataFrame or Series elements by label-based indexing.\n",
    "# It accepts labels or boolean arrays to select specific rows or columns. df = pd.DataFrame({'A': [1, 2, 3], 'B': [4, 5, 6]})\n",
    "print(df.loc[0]) # Accessing the first row print(df.loc[:, 'B']) # Accessing the 'B' column\n",
    "\n",
    "# drop() - This method is used to remove specified rows or columns from a DataFrame.\n",
    "# It returns a new DataFrame with the specified rows or columns dropped.\n",
    " \n",
    "df = pd.DataFrame({'A': [1, 2, 3], 'B': [4, 5, 6]})\n",
    "new_df = df.drop([1]) # Dropping the second row print(new_df)\n",
    "\n",
    "# min() - This method returns the minimum value from a DataFrame or Series. df = pd.DataFrame({'A': [5, 2, 8, 1, 6]})\n",
    "print(df['A'].min())\n",
    "\n",
    "\n",
    "# max() - This method returns the maximum value from a DataFrame or Series. df = pd.DataFrame({'A': [5, 2, 8, 1, 6]})\n",
    "print(df['A'].max())\n",
    "\n",
    "\n",
    "#groupby() method in Pandas is used for grouping rows of data # based on one or more columns in a DataFrame.\n",
    "# It allows you to split the data into groups based on specific criteria,\n",
    "# such as unique values in a column, and perform operations on each group independently.\n",
    "data = {\n",
    "'Name': ['John', 'Alice', 'Bob', 'Alice', 'John'],\n",
    "'City': ['New York', 'London', 'Paris', 'London', 'Paris'], 'Age': [25, 30, 35, 28, 40],\n",
    "'Salary': [5000, 6000, 4500, 5500, 7000]\n",
    "}\n",
    "df = pd.DataFrame(data)\n",
    " \n",
    "# Grouping the data by 'City' grouped_data = df.groupby('City')\n",
    "\n",
    "# Applying the mean() function to the grouped data mean_salary = grouped_data['Salary'].mean() print(mean_salary)\n"
   ]
  },
  {
   "cell_type": "code",
   "execution_count": null,
   "metadata": {},
   "outputs": [],
   "source": [
    "#26.a)write a program to demonstrate subplots and multiple plots in matplotlib. b) demonstrate pie chart and scatter plot in matplotlib\n",
    "\n",
    "\n",
    "#a)\tProgram to demonstrate subplots and multiple plots in Matplotlib:\n",
    "\n",
    "\n",
    "import matplotlib.pyplot as plt import numpy as np\n",
    "\n",
    "# Data for plots\n",
    "x = np.linspace(0, 2 * np.pi, 100) y1 = np.sin(x)\n",
    "y2 = np.cos(x) y3 = np.tan(x)\n",
    "\n",
    "# Create a figure and subplots\n",
    "fig, axs = plt.subplots(2, 2, figsize=(10, 8))\n",
    "\n",
    "\n",
    "# Plot 1: Sine axs[0, 0].plot(x, y1)\n",
    "axs[0, 0].set_title('Sine')\n",
    "\n",
    "\n",
    "# Plot 2: Cosine axs[0, 1].plot(x, y2)\n",
    "axs[0, 1].set_title('Cosine')\n",
    " \n",
    "# Plot 3: Tangent axs[1, 0].plot(x, y3)\n",
    "axs[1, 0].set_title('Tangent')\n",
    "\n",
    "\n",
    "# Plot 4: Sine and Cosine\n",
    "axs[1, 1].plot(x, y1, label='Sine') axs[1, 1].plot(x, y2, label='Cosine') axs[1, 1].legend()\n",
    "axs[1, 1].set_title('Sine and Cosine')\n",
    "\n",
    "\n",
    "# Adjust spacing between subplots plt.tight_layout()\n",
    "\n",
    "# Show the plots plt.show()\n"
   ]
  },
  {
   "cell_type": "code",
   "execution_count": null,
   "metadata": {},
   "outputs": [],
   "source": [
    "#b)\tProgram to demonstrate a pie chart and scatter plot in Matplotlib:\n",
    "import matplotlib.pyplot as plt\n",
    "\n",
    "\n",
    "# Pie chart data\n",
    "sizes = [30, 15, 20, 35] # Sizes of different categories labels = ['A', 'B', 'C', 'D'] # Labels for categories\n",
    "\n",
    "# Create a pie chart plt.figure(figsize=(6, 6))\n",
    "plt.pie(sizes, labels=labels, autopct='%1.1f%%', startangle=90) plt.title('Pie Chart')\n",
    "\n",
    "# Show the pie chart plt.show()\n",
    "\n",
    "# Scatter plot data x = [1, 2, 3, 4, 5]\n",
    "y = [2, 4, 6, 8, 10]\n",
    "\n",
    "\n",
    "# Create a scatter plot plt.figure(figsize=(6, 4)) plt.scatter(x, y) plt.title('Scatter Plot') plt.xlabel('X')\n",
    "plt.ylabel('Y')\n",
    " \n",
    "\n",
    "# Show the scatter plot plt.show()\n",
    "\n",
    "\n"
   ]
  },
  {
   "cell_type": "code",
   "execution_count": null,
   "metadata": {},
   "outputs": [],
   "source": [
    "#27. Write a program to show joining in Numpy arrays , intersection and difference in Numpy.\n",
    "\n",
    "\n",
    "import numpy as np\n",
    "\n",
    "\n",
    "# Joining arrays\n",
    "arr1 = np.array([1, 2, 3])\n",
    "arr2 = np.array([4, 5, 6])\n",
    "arr3 = np.array([7, 8, 9])\n",
    "\n",
    "\n",
    "# Joining arrays horizontally\n",
    "joined_horizontal = np.hstack((arr1, arr2, arr3)) print(\"Joined horizontally:\", joined_horizontal)\n",
    "\n",
    "# Joining arrays vertically\n",
    "joined_vertical = np.vstack((arr1, arr2, arr3)) print(\"Joined vertically:\") print(joined_vertical)\n",
    "\n",
    "# Intersection and difference arr4 = np.array([1, 2, 3, 4, 5])\n",
    "arr5 = np.array([4, 5, 6, 7, 8])\n",
    "\n",
    "\n",
    "# Intersection\n",
    "intersection = np.intersect1d(arr4, arr5)\n",
    " \n",
    "print(\"Intersection:\", intersection)\n",
    "\n",
    "\n",
    "# Difference\n",
    "difference = np.setdiff1d(arr4, arr5) print(\"Difference (arr4 - arr5):\", difference)\n",
    "\n"
   ]
  }
 ],
 "metadata": {
  "kernelspec": {
   "display_name": "Python 3 (ipykernel)",
   "language": "python",
   "name": "python3"
  },
  "language_info": {
   "codemirror_mode": {
    "name": "ipython",
    "version": 3
   },
   "file_extension": ".py",
   "mimetype": "text/x-python",
   "name": "python",
   "nbconvert_exporter": "python",
   "pygments_lexer": "ipython3",
   "version": "3.8.5"
  }
 },
 "nbformat": 4,
 "nbformat_minor": 2
}
