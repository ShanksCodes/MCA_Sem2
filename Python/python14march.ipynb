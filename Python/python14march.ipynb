{
 "cells": [
  {
   "cell_type": "code",
   "execution_count": 1,
   "id": "ca3b32d8",
   "metadata": {},
   "outputs": [
    {
     "name": "stdout",
     "output_type": "stream",
     "text": [
      "Hello World\n"
     ]
    }
   ],
   "source": [
    "print(\"Hello World\")"
   ]
  },
  {
   "cell_type": "code",
   "execution_count": 2,
   "id": "d647a7ae",
   "metadata": {},
   "outputs": [
    {
     "data": {
      "text/plain": [
       "10"
      ]
     },
     "execution_count": 2,
     "metadata": {},
     "output_type": "execute_result"
    }
   ],
   "source": [
    "a=10\n",
    "a"
   ]
  },
  {
   "cell_type": "code",
   "execution_count": 3,
   "id": "ac59d227",
   "metadata": {},
   "outputs": [
    {
     "name": "stdout",
     "output_type": "stream",
     "text": [
      "10\n"
     ]
    }
   ],
   "source": [
    "print(a)"
   ]
  },
  {
   "cell_type": "code",
   "execution_count": 8,
   "id": "6c8c7045",
   "metadata": {},
   "outputs": [
    {
     "name": "stdout",
     "output_type": "stream",
     "text": [
      "<class 'int'>\n",
      "<class 'float'>\n",
      "<class 'str'>\n",
      "<class 'bool'>\n"
     ]
    }
   ],
   "source": [
    "a=10\n",
    "b=3.14\n",
    "c= \"Hello World\"\n",
    "d= True \n",
    "print(type(a))\n",
    "print(type(b))\n",
    "print(type(c))\n",
    "print(type(d))\n"
   ]
  },
  {
   "cell_type": "code",
   "execution_count": 11,
   "id": "a8e71879",
   "metadata": {},
   "outputs": [
    {
     "name": "stdout",
     "output_type": "stream",
     "text": [
      "b is greater\n"
     ]
    }
   ],
   "source": [
    "a=10\n",
    "b=20\n",
    "if (a>b):\n",
    " print(\"a is greater\")\n",
    "else:\n",
    " print(\"b is greater\")\n",
    "    \n",
    "    "
   ]
  },
  {
   "cell_type": "code",
   "execution_count": 1,
   "id": "f7278e00",
   "metadata": {},
   "outputs": [
    {
     "name": "stdout",
     "output_type": "stream",
     "text": [
      "Hello World! My name is Jeff. How are you?\n"
     ]
    }
   ],
   "source": [
    "s= \"Hello World! My name is Jeff. How are you?\"\n",
    "print(s)"
   ]
  },
  {
   "cell_type": "code",
   "execution_count": 2,
   "id": "120212b5-7b8d-4085-858b-c2cba407d1fb",
   "metadata": {},
   "outputs": [
    {
     "name": "stdout",
     "output_type": "stream",
     "text": [
      "s[0]:  H\n"
     ]
    }
   ],
   "source": [
    "print(\"s[0]: \", s[0])"
   ]
  },
  {
   "cell_type": "code",
   "execution_count": 3,
   "id": "3d89292e-c7e7-4372-85e8-a6a777f99c1d",
   "metadata": {},
   "outputs": [
    {
     "name": "stdout",
     "output_type": "stream",
     "text": [
      "s[0]:  o\n"
     ]
    }
   ],
   "source": [
    "print(\"s[4]: \", s[4])"
   ]
  },
  {
   "cell_type": "code",
   "execution_count": 4,
   "id": "8f59dce4-58f5-4b5e-953f-0e8e404bfd38",
   "metadata": {},
   "outputs": [
    {
     "name": "stdout",
     "output_type": "stream",
     "text": [
      "Length of string:  42\n"
     ]
    }
   ],
   "source": [
    "print(\"Length of string: \", len(s))"
   ]
  },
  {
   "cell_type": "code",
   "execution_count": 5,
   "id": "1ac650b2-369a-4310-aa9a-d95fac6f6538",
   "metadata": {},
   "outputs": [
    {
     "name": "stdout",
     "output_type": "stream",
     "text": [
      "s[41]:  ?\n"
     ]
    }
   ],
   "source": [
    "print(\"s[41]: \", s[41])"
   ]
  },
  {
   "cell_type": "code",
   "execution_count": 9,
   "id": "e3cdd661-a52f-496f-bd5f-eb07bc9c1106",
   "metadata": {},
   "outputs": [
    {
     "name": "stdout",
     "output_type": "stream",
     "text": [
      "s[-1]:  ?\n"
     ]
    }
   ],
   "source": [
    "print(\"s[-1]: \", s[-1])\n"
   ]
  },
  {
   "cell_type": "code",
   "execution_count": 10,
   "id": "e467bc2d-4955-42d1-8faf-dea2d26ad9d2",
   "metadata": {},
   "outputs": [
    {
     "name": "stdout",
     "output_type": "stream",
     "text": [
      "s[-41]:  e\n"
     ]
    }
   ],
   "source": [
    "print(\"s[-41]: \", s[-41])\n"
   ]
  },
  {
   "cell_type": "code",
   "execution_count": 11,
   "id": "4ae0c870-cc2e-4bc0-bad0-fd430f239485",
   "metadata": {},
   "outputs": [
    {
     "name": "stdout",
     "output_type": "stream",
     "text": [
      "s[-42]:  H\n"
     ]
    }
   ],
   "source": [
    "print(\"s[-42]: \", s[-42])\n"
   ]
  },
  {
   "cell_type": "code",
   "execution_count": 12,
   "id": "906481dc-c22f-4c8c-bcc1-406d3446b70f",
   "metadata": {},
   "outputs": [
    {
     "name": "stdout",
     "output_type": "stream",
     "text": [
      "Hello \n"
     ]
    }
   ],
   "source": [
    "print(s[0:6])\n"
   ]
  },
  {
   "cell_type": "code",
   "execution_count": 13,
   "id": "28fa57a0-4392-44e5-a18c-fc023dd940c6",
   "metadata": {},
   "outputs": [
    {
     "name": "stdout",
     "output_type": "stream",
     "text": [
      "orl\n"
     ]
    }
   ],
   "source": [
    "print(s[7:10])"
   ]
  },
  {
   "cell_type": "code",
   "execution_count": 14,
   "id": "e108485a-e569-4057-aaa6-e566f5615447",
   "metadata": {},
   "outputs": [
    {
     "name": "stdout",
     "output_type": "stream",
     "text": [
      "Hello\n"
     ]
    }
   ],
   "source": [
    "print(s[:5])"
   ]
  },
  {
   "cell_type": "code",
   "execution_count": 20,
   "id": "a11cf958-3595-437a-9146-a888eef0ecb7",
   "metadata": {},
   "outputs": [
    {
     "name": "stdout",
     "output_type": "stream",
     "text": [
      "?\n"
     ]
    }
   ],
   "source": [
    "print(s[-1])"
   ]
  },
  {
   "cell_type": "code",
   "execution_count": 21,
   "id": "938eb6a1-3642-43c5-9529-2c48476d4322",
   "metadata": {},
   "outputs": [
    {
     "name": "stdout",
     "output_type": "stream",
     "text": [
      "\n"
     ]
    }
   ],
   "source": [
    "print(s[-1:-3])"
   ]
  },
  {
   "cell_type": "code",
   "execution_count": 22,
   "id": "572fdb1a-7ab9-477e-855f-fd5156bf5d63",
   "metadata": {},
   "outputs": [
    {
     "name": "stdout",
     "output_type": "stream",
     "text": [
      "Hlo\n"
     ]
    }
   ],
   "source": [
    "print(s[0:6:2])"
   ]
  },
  {
   "cell_type": "code",
   "execution_count": 23,
   "id": "9637accf-2e11-443c-9024-dd58b437704f",
   "metadata": {},
   "outputs": [
    {
     "name": "stdout",
     "output_type": "stream",
     "text": [
      "ou\n"
     ]
    }
   ],
   "source": [
    "print(s[-3:-1])  #3rd index from the back to the 1st index, but 1st index excluded"
   ]
  },
  {
   "cell_type": "code",
   "execution_count": 24,
   "id": "41b22ab8-6ec0-459f-8ded-b6e3453e52f9",
   "metadata": {},
   "outputs": [
    {
     "name": "stdout",
     "output_type": "stream",
     "text": [
      "Hello World! My name is Jeff. How are you?\n"
     ]
    }
   ],
   "source": [
    "print(s)"
   ]
  },
  {
   "cell_type": "code",
   "execution_count": null,
   "id": "3cdb551e-74e4-4344-91e5-90731871553e",
   "metadata": {},
   "outputs": [],
   "source": [
    "#replace count split"
   ]
  },
  {
   "cell_type": "code",
   "execution_count": 26,
   "id": "4d706d13-e74a-4216-a1e0-fe99a574c8e7",
   "metadata": {},
   "outputs": [],
   "source": [
    "s2=\"\"\"Python is a general purpose programming language. It is very easy to learn, easy syntax and readability is one of the reasons why developers are switching to python from other programming languages.\n",
    "\n",
    "We can use python as object oriented and procedure oriented language as well. It is open source and has tons of libraries for various implementations.\"\"\""
   ]
  },
  {
   "cell_type": "code",
   "execution_count": 27,
   "id": "4a9f070d-6051-42a7-81be-cb3a488f0c7a",
   "metadata": {},
   "outputs": [
    {
     "name": "stdout",
     "output_type": "stream",
     "text": [
      "Python is a general purpose programming language. It is very easy to learn, easy syntax and readability is one of the reasons why developers are switching to python from other programming languages.\n",
      "\n",
      "We can use python as object oriented and procedure oriented language as well. It is open source and has tons of libraries for various implementations.\n"
     ]
    }
   ],
   "source": [
    "print(s2)"
   ]
  },
  {
   "cell_type": "code",
   "execution_count": 28,
   "id": "c565e3f9-7d77-4dad-ba03-328b405f4165",
   "metadata": {},
   "outputs": [
    {
     "data": {
      "text/plain": [
       "'Python is a general purpose programming language. It is very easy to learn, easy syntax and readability is one of the reasons why developers are switching to python3 from other programming languages.\\n\\nWe can use python3 as object oriented and procedure oriented language as well. It is open source and has tons of libraries for various implementations.'"
      ]
     },
     "execution_count": 28,
     "metadata": {},
     "output_type": "execute_result"
    }
   ],
   "source": [
    "s2.replace(\"python\",\"python3\")"
   ]
  },
  {
   "cell_type": "code",
   "execution_count": 29,
   "id": "6ed87a8a-992d-439d-adfb-07c6de02a7a2",
   "metadata": {},
   "outputs": [
    {
     "name": "stdout",
     "output_type": "stream",
     "text": [
      "Python is a general purpose programming language. It is very easy to learn, easy syntax and readability is one of the reasons why developers are switching to python from other programming languages.\n",
      "\n",
      "We can use python as object oriented and procedure oriented language as well. It is open source and has tons of libraries for various implementations.\n"
     ]
    }
   ],
   "source": [
    "print(s2)  #not in-place"
   ]
  },
  {
   "cell_type": "code",
   "execution_count": 30,
   "id": "044c728c-f2ec-43a0-b00c-b2231743a8cd",
   "metadata": {},
   "outputs": [
    {
     "data": {
      "text/plain": [
       "2"
      ]
     },
     "execution_count": 30,
     "metadata": {},
     "output_type": "execute_result"
    }
   ],
   "source": [
    "s2.count(\"python\")"
   ]
  },
  {
   "cell_type": "code",
   "execution_count": 31,
   "id": "0710cc4a-3c31-468a-88c1-d2c835fba962",
   "metadata": {},
   "outputs": [
    {
     "data": {
      "text/plain": [
       "['Hello', 'World', 'My', 'Name', 'Is', 'Abhishek']"
      ]
     },
     "execution_count": 31,
     "metadata": {},
     "output_type": "execute_result"
    }
   ],
   "source": [
    "s3= \"Hello#World#My#Name#Is#Abhishek\"\n",
    "s3.split(\"#\")"
   ]
  },
  {
   "cell_type": "code",
   "execution_count": 33,
   "id": "809f4d52-0368-40ad-a7c2-5f456be534b4",
   "metadata": {},
   "outputs": [
    {
     "data": {
      "text/plain": [
       "['Hello', 'World.', 'My', 'name', 'is', 'Abhishek']"
      ]
     },
     "execution_count": 33,
     "metadata": {},
     "output_type": "execute_result"
    }
   ],
   "source": [
    "s4= \"Hello World. My name is Abhishek\" #default delimiter is spacebar\n",
    "s4.split()"
   ]
  },
  {
   "cell_type": "code",
   "execution_count": 35,
   "id": "3a590030-b252-4a78-b67d-c233c9d01731",
   "metadata": {},
   "outputs": [
    {
     "data": {
      "text/plain": [
       "['Hello World', ' My name is Abhishek']"
      ]
     },
     "execution_count": 35,
     "metadata": {},
     "output_type": "execute_result"
    }
   ],
   "source": [
    "s4.split(\".\")"
   ]
  },
  {
   "cell_type": "code",
   "execution_count": 36,
   "id": "15437a53-98c4-4aa6-8185-7a3ea3e0bcbd",
   "metadata": {},
   "outputs": [
    {
     "data": {
      "text/plain": [
       "6"
      ]
     },
     "execution_count": 36,
     "metadata": {},
     "output_type": "execute_result"
    }
   ],
   "source": [
    "s4.find(\"World\")"
   ]
  },
  {
   "cell_type": "code",
   "execution_count": 1,
   "id": "56ce9617-76a3-492f-910a-f3531308ff1f",
   "metadata": {},
   "outputs": [
    {
     "name": "stdout",
     "output_type": "stream",
     "text": [
      "b is greater than a\n"
     ]
    }
   ],
   "source": [
    "a=10\n",
    "b=20\n",
    "\n",
    "if(a>b):\n",
    "    print(\"a is greater than b\")\n",
    "else:\n",
    "    print(\"b is greater than a\")"
   ]
  },
  {
   "cell_type": "code",
   "execution_count": 5,
   "id": "b4a0655f-c4be-45ee-8df7-c4b52714f7b7",
   "metadata": {},
   "outputs": [
    {
     "name": "stdout",
     "output_type": "stream",
     "text": [
      "b is the greatest element\n"
     ]
    }
   ],
   "source": [
    "a=17\n",
    "b=22\n",
    "c=15\n",
    "\n",
    "if(a>b and a>c):\n",
    "    print(\"a is the greatest element\")\n",
    "elif(b>a & b>c):\n",
    "    print(\"b is the greatest element\")\n",
    "else:\n",
    "    print(\"c is the greatest element\")"
   ]
  },
  {
   "cell_type": "code",
   "execution_count": 10,
   "id": "81298529-a19b-4eb5-b815-16f2cbf43900",
   "metadata": {},
   "outputs": [
    {
     "name": "stdout",
     "output_type": "stream",
     "text": [
      "2016  is a leap year!\n"
     ]
    }
   ],
   "source": [
    "year=2016\n",
    "if(year%400==0):\n",
    "    print(year, \" is a leap year!\")\n",
    "elif(year%4==0):\n",
    "    if(year%100==0):\n",
    "        print(year, \" is not leap year!\")\n",
    "    else:\n",
    "        print(year, \" is a leap year!\")\n",
    "else:\n",
    "    print(year, \"is not a leap year!\")"
   ]
  },
  {
   "cell_type": "code",
   "execution_count": 12,
   "id": "8ee672e7-5413-446c-9f6a-37eb1069b359",
   "metadata": {},
   "outputs": [
    {
     "name": "stdout",
     "output_type": "stream",
     "text": [
      "=\n"
     ]
    }
   ],
   "source": [
    "a = 330\n",
    "b = 330\n",
    "print(\"A\") if a > b else print(\"=\") if a == b else print(\"B\") #shorthand if else"
   ]
  },
  {
   "cell_type": "code",
   "execution_count": 4,
   "id": "1be1d3e1-4a41-498f-9b2a-f1d8db763957",
   "metadata": {},
   "outputs": [
    {
     "name": "stdout",
     "output_type": "stream",
     "text": [
      "Enter number to find its table upto 10: 6\n",
      "6 * 1 = 6\n",
      "6 * 2 = 12\n",
      "6 * 3 = 18\n",
      "6 * 4 = 24\n",
      "6 * 5 = 30\n",
      "6 * 6 = 36\n",
      "6 * 7 = 42\n",
      "6 * 8 = 48\n",
      "6 * 9 = 54\n",
      "6 * 10 = 60\n"
     ]
    }
   ],
   "source": [
    "#Table of a number,  27 march program 1 in file\n",
    "i=1\n",
    "a= int(input(\"Enter number to find its table upto 10: \"))\n",
    "while i<=10:\n",
    "    print(a,\"*\",i,\"=\",a*i)\n",
    "    i=i+1"
   ]
  },
  {
   "cell_type": "code",
   "execution_count": 9,
   "id": "ed5eae3c-ebd2-4c54-8320-bd0b0efc5383",
   "metadata": {},
   "outputs": [
    {
     "name": "stdout",
     "output_type": "stream",
     "text": [
      "Find the number to find its factorial: 6\n",
      "Factorial of  6  is  720\n"
     ]
    }
   ],
   "source": [
    "#Factorial of a number , 27 march program 2\n",
    "\n",
    "num = int(input(\"Find the number to find its factorial: \"))\n",
    "if(num==0 or num==1):\n",
    "    print(\"Factorial of \", num, \" is \", 1)\n",
    "    \n",
    "    \n",
    "elif(num<0):\n",
    "    print(\"Factorial for negative numbers is not defined!\")\n",
    "\n",
    "else:\n",
    "    i = num\n",
    "    res = 1\n",
    "    while i>1:\n",
    "        res*=i\n",
    "        i=i-1\n",
    "print(\"Factorial of \", num, \" is \", res)\n",
    "    "
   ]
  },
  {
   "cell_type": "code",
   "execution_count": 35,
   "id": "ed9211fa",
   "metadata": {},
   "outputs": [
    {
     "name": "stdout",
     "output_type": "stream",
     "text": [
      "Enter number to find its sum: 7\n",
      "Sum of digits is  7\n"
     ]
    }
   ],
   "source": [
    "#sum of digits, march 27 program 3\n",
    "\n",
    "summ=0\n",
    "num = int(input(\"Enter number to find its sum: \"))\n",
    "\n",
    "rem=0\n",
    "while(num!=0):\n",
    "    rem=num%10\n",
    "    summ+=rem\n",
    "    rem=0\n",
    "    num= num//10\n",
    "print(\"Sum of digits is \", summ)\n",
    "    \n",
    " \n",
    "\n",
    "\n",
    "\n"
   ]
  },
  {
   "cell_type": "code",
   "execution_count": 6,
   "id": "d9d8e995",
   "metadata": {},
   "outputs": [
    {
     "name": "stdout",
     "output_type": "stream",
     "text": [
      "Enter number to find its products: 0\n",
      "product of numbers is  0\n"
     ]
    }
   ],
   "source": [
    "#prod of digits, march 27 program 4\n",
    "\n",
    "prod=1\n",
    "num = int(input(\"Enter number to find its products: \"))\n",
    "rem=0\n",
    "if(num==0):\n",
    "    print(\"product of numbers is \",0)\n",
    "else:\n",
    "    while(num!=0):\n",
    "        rem=num%10\n",
    "        prod*=rem\n",
    "        rem=0\n",
    "        num= num//10\n",
    "    print(\"product of digits is \", prod)\n",
    "    \n",
    " "
   ]
  },
  {
   "cell_type": "code",
   "execution_count": 9,
   "id": "26d4d23c",
   "metadata": {},
   "outputs": [
    {
     "name": "stdout",
     "output_type": "stream",
     "text": [
      "Enter number to determine if its prime or not: 47\n",
      "47  is prime\n"
     ]
    }
   ],
   "source": [
    "# prime number, march 29 program 5\n",
    "\n",
    "num = int(input(\"Enter number to determine if its prime or not: \"))\n",
    "i = num//2\n",
    "flag=0\n",
    "\n",
    "if num==2:\n",
    "    print(num, \" is prime\")\n",
    "else:\n",
    "    while(i>=2):\n",
    "        if(num%i==0):\n",
    "            flag=1\n",
    "            break\n",
    "        i=i-1\n",
    "    if(flag==1):\n",
    "        print(num, \" is not prime\")\n",
    "    else:\n",
    "        print(num, \" is prime\")"
   ]
  },
  {
   "cell_type": "code",
   "execution_count": 14,
   "id": "fc275a1b",
   "metadata": {},
   "outputs": [
    {
     "name": "stdout",
     "output_type": "stream",
     "text": [
      "Enter number to find its reverse 0\n",
      "Reverse of  0  is  0\n"
     ]
    }
   ],
   "source": [
    "#reverse of a number, march 29 program 6\n",
    "num = int(input(\"Enter number to find its reverse \"))\n",
    "num2 = num\n",
    "rev=0\n",
    "\n",
    "while(num2>0):\n",
    "    rev = (rev*10) + (num2%10)\n",
    "    num2 = num2//10\n",
    "print(\"Reverse of \", num, \" is \", rev)    \n",
    " \n",
    "\n"
   ]
  },
  {
   "cell_type": "code",
   "execution_count": null,
   "id": "c5ba0a9a",
   "metadata": {},
   "outputs": [],
   "source": [
    "#palindrome of a number, march 29 program 7"
   ]
  }
 ],
 "metadata": {
  "kernelspec": {
   "display_name": "Python 3 (ipykernel)",
   "language": "python",
   "name": "python3"
  },
  "language_info": {
   "codemirror_mode": {
    "name": "ipython",
    "version": 3
   },
   "file_extension": ".py",
   "mimetype": "text/x-python",
   "name": "python",
   "nbconvert_exporter": "python",
   "pygments_lexer": "ipython3",
   "version": "3.9.12"
  }
 },
 "nbformat": 4,
 "nbformat_minor": 5
}
