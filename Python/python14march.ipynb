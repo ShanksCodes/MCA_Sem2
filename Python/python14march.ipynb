{
 "cells": [
  {
   "cell_type": "code",
   "execution_count": 1,
   "id": "ca3b32d8",
   "metadata": {},
   "outputs": [
    {
     "name": "stdout",
     "output_type": "stream",
     "text": [
      "Hello World\n"
     ]
    }
   ],
   "source": [
    "print(\"Hello World\")"
   ]
  },
  {
   "cell_type": "code",
   "execution_count": 2,
   "id": "d647a7ae",
   "metadata": {},
   "outputs": [
    {
     "data": {
      "text/plain": [
       "10"
      ]
     },
     "execution_count": 2,
     "metadata": {},
     "output_type": "execute_result"
    }
   ],
   "source": [
    "a=10\n",
    "a"
   ]
  },
  {
   "cell_type": "code",
   "execution_count": 3,
   "id": "ac59d227",
   "metadata": {},
   "outputs": [
    {
     "name": "stdout",
     "output_type": "stream",
     "text": [
      "10\n"
     ]
    }
   ],
   "source": [
    "print(a)"
   ]
  },
  {
   "cell_type": "code",
   "execution_count": 8,
   "id": "6c8c7045",
   "metadata": {},
   "outputs": [
    {
     "name": "stdout",
     "output_type": "stream",
     "text": [
      "<class 'int'>\n",
      "<class 'float'>\n",
      "<class 'str'>\n",
      "<class 'bool'>\n"
     ]
    }
   ],
   "source": [
    "a=10\n",
    "b=3.14\n",
    "c= \"Hello World\"\n",
    "d= True \n",
    "print(type(a))\n",
    "print(type(b))\n",
    "print(type(c))\n",
    "print(type(d))\n"
   ]
  },
  {
   "cell_type": "code",
   "execution_count": 11,
   "id": "a8e71879",
   "metadata": {},
   "outputs": [
    {
     "name": "stdout",
     "output_type": "stream",
     "text": [
      "b is greater\n"
     ]
    }
   ],
   "source": [
    "a=10\n",
    "b=20\n",
    "if (a>b):\n",
    " print(\"a is greater\")\n",
    "else:\n",
    " print(\"b is greater\")\n",
    "    \n",
    "    "
   ]
  },
  {
   "cell_type": "code",
   "execution_count": 1,
   "id": "f7278e00",
   "metadata": {},
   "outputs": [
    {
     "name": "stdout",
     "output_type": "stream",
     "text": [
      "Hello World! My name is Jeff. How are you?\n"
     ]
    }
   ],
   "source": [
    "s= \"Hello World! My name is Jeff. How are you?\"\n",
    "print(s)"
   ]
  },
  {
   "cell_type": "code",
   "execution_count": 2,
   "id": "120212b5-7b8d-4085-858b-c2cba407d1fb",
   "metadata": {},
   "outputs": [
    {
     "name": "stdout",
     "output_type": "stream",
     "text": [
      "s[0]:  H\n"
     ]
    }
   ],
   "source": [
    "print(\"s[0]: \", s[0])"
   ]
  },
  {
   "cell_type": "code",
   "execution_count": 3,
   "id": "3d89292e-c7e7-4372-85e8-a6a777f99c1d",
   "metadata": {},
   "outputs": [
    {
     "name": "stdout",
     "output_type": "stream",
     "text": [
      "s[0]:  o\n"
     ]
    }
   ],
   "source": [
    "print(\"s[4]: \", s[4])"
   ]
  },
  {
   "cell_type": "code",
   "execution_count": 4,
   "id": "8f59dce4-58f5-4b5e-953f-0e8e404bfd38",
   "metadata": {},
   "outputs": [
    {
     "name": "stdout",
     "output_type": "stream",
     "text": [
      "Length of string:  42\n"
     ]
    }
   ],
   "source": [
    "print(\"Length of string: \", len(s))"
   ]
  },
  {
   "cell_type": "code",
   "execution_count": 5,
   "id": "1ac650b2-369a-4310-aa9a-d95fac6f6538",
   "metadata": {},
   "outputs": [
    {
     "name": "stdout",
     "output_type": "stream",
     "text": [
      "s[41]:  ?\n"
     ]
    }
   ],
   "source": [
    "print(\"s[41]: \", s[41])"
   ]
  },
  {
   "cell_type": "code",
   "execution_count": 9,
   "id": "e3cdd661-a52f-496f-bd5f-eb07bc9c1106",
   "metadata": {},
   "outputs": [
    {
     "name": "stdout",
     "output_type": "stream",
     "text": [
      "s[-1]:  ?\n"
     ]
    }
   ],
   "source": [
    "print(\"s[-1]: \", s[-1])\n"
   ]
  },
  {
   "cell_type": "code",
   "execution_count": 10,
   "id": "e467bc2d-4955-42d1-8faf-dea2d26ad9d2",
   "metadata": {},
   "outputs": [
    {
     "name": "stdout",
     "output_type": "stream",
     "text": [
      "s[-41]:  e\n"
     ]
    }
   ],
   "source": [
    "print(\"s[-41]: \", s[-41])\n"
   ]
  },
  {
   "cell_type": "code",
   "execution_count": 11,
   "id": "4ae0c870-cc2e-4bc0-bad0-fd430f239485",
   "metadata": {},
   "outputs": [
    {
     "name": "stdout",
     "output_type": "stream",
     "text": [
      "s[-42]:  H\n"
     ]
    }
   ],
   "source": [
    "print(\"s[-42]: \", s[-42])\n"
   ]
  },
  {
   "cell_type": "code",
   "execution_count": 12,
   "id": "906481dc-c22f-4c8c-bcc1-406d3446b70f",
   "metadata": {},
   "outputs": [
    {
     "name": "stdout",
     "output_type": "stream",
     "text": [
      "Hello \n"
     ]
    }
   ],
   "source": [
    "print(s[0:6])\n"
   ]
  },
  {
   "cell_type": "code",
   "execution_count": 13,
   "id": "28fa57a0-4392-44e5-a18c-fc023dd940c6",
   "metadata": {},
   "outputs": [
    {
     "name": "stdout",
     "output_type": "stream",
     "text": [
      "orl\n"
     ]
    }
   ],
   "source": [
    "print(s[7:10])"
   ]
  },
  {
   "cell_type": "code",
   "execution_count": 14,
   "id": "e108485a-e569-4057-aaa6-e566f5615447",
   "metadata": {},
   "outputs": [
    {
     "name": "stdout",
     "output_type": "stream",
     "text": [
      "Hello\n"
     ]
    }
   ],
   "source": [
    "print(s[:5])"
   ]
  },
  {
   "cell_type": "code",
   "execution_count": 20,
   "id": "a11cf958-3595-437a-9146-a888eef0ecb7",
   "metadata": {},
   "outputs": [
    {
     "name": "stdout",
     "output_type": "stream",
     "text": [
      "?\n"
     ]
    }
   ],
   "source": [
    "print(s[-1])"
   ]
  },
  {
   "cell_type": "code",
   "execution_count": 21,
   "id": "938eb6a1-3642-43c5-9529-2c48476d4322",
   "metadata": {},
   "outputs": [
    {
     "name": "stdout",
     "output_type": "stream",
     "text": [
      "\n"
     ]
    }
   ],
   "source": [
    "print(s[-1:-3])"
   ]
  },
  {
   "cell_type": "code",
   "execution_count": 22,
   "id": "572fdb1a-7ab9-477e-855f-fd5156bf5d63",
   "metadata": {},
   "outputs": [
    {
     "name": "stdout",
     "output_type": "stream",
     "text": [
      "Hlo\n"
     ]
    }
   ],
   "source": [
    "print(s[0:6:2])"
   ]
  },
  {
   "cell_type": "code",
   "execution_count": 23,
   "id": "9637accf-2e11-443c-9024-dd58b437704f",
   "metadata": {},
   "outputs": [
    {
     "name": "stdout",
     "output_type": "stream",
     "text": [
      "ou\n"
     ]
    }
   ],
   "source": [
    "print(s[-3:-1])  #3rd index from the back to the 1st index, but 1st index excluded"
   ]
  },
  {
   "cell_type": "code",
   "execution_count": 24,
   "id": "41b22ab8-6ec0-459f-8ded-b6e3453e52f9",
   "metadata": {},
   "outputs": [
    {
     "name": "stdout",
     "output_type": "stream",
     "text": [
      "Hello World! My name is Jeff. How are you?\n"
     ]
    }
   ],
   "source": [
    "print(s)"
   ]
  },
  {
   "cell_type": "code",
   "execution_count": null,
   "id": "3cdb551e-74e4-4344-91e5-90731871553e",
   "metadata": {},
   "outputs": [],
   "source": [
    "#replace count split"
   ]
  },
  {
   "cell_type": "code",
   "execution_count": 26,
   "id": "4d706d13-e74a-4216-a1e0-fe99a574c8e7",
   "metadata": {},
   "outputs": [],
   "source": [
    "s2=\"\"\"Python is a general purpose programming language. It is very easy to learn, easy syntax and readability is one of the reasons why developers are switching to python from other programming languages.\n",
    "\n",
    "We can use python as object oriented and procedure oriented language as well. It is open source and has tons of libraries for various implementations.\"\"\""
   ]
  },
  {
   "cell_type": "code",
   "execution_count": 27,
   "id": "4a9f070d-6051-42a7-81be-cb3a488f0c7a",
   "metadata": {},
   "outputs": [
    {
     "name": "stdout",
     "output_type": "stream",
     "text": [
      "Python is a general purpose programming language. It is very easy to learn, easy syntax and readability is one of the reasons why developers are switching to python from other programming languages.\n",
      "\n",
      "We can use python as object oriented and procedure oriented language as well. It is open source and has tons of libraries for various implementations.\n"
     ]
    }
   ],
   "source": [
    "print(s2)"
   ]
  },
  {
   "cell_type": "code",
   "execution_count": 28,
   "id": "c565e3f9-7d77-4dad-ba03-328b405f4165",
   "metadata": {},
   "outputs": [
    {
     "data": {
      "text/plain": [
       "'Python is a general purpose programming language. It is very easy to learn, easy syntax and readability is one of the reasons why developers are switching to python3 from other programming languages.\\n\\nWe can use python3 as object oriented and procedure oriented language as well. It is open source and has tons of libraries for various implementations.'"
      ]
     },
     "execution_count": 28,
     "metadata": {},
     "output_type": "execute_result"
    }
   ],
   "source": [
    "s2.replace(\"python\",\"python3\")"
   ]
  },
  {
   "cell_type": "code",
   "execution_count": 29,
   "id": "6ed87a8a-992d-439d-adfb-07c6de02a7a2",
   "metadata": {},
   "outputs": [
    {
     "name": "stdout",
     "output_type": "stream",
     "text": [
      "Python is a general purpose programming language. It is very easy to learn, easy syntax and readability is one of the reasons why developers are switching to python from other programming languages.\n",
      "\n",
      "We can use python as object oriented and procedure oriented language as well. It is open source and has tons of libraries for various implementations.\n"
     ]
    }
   ],
   "source": [
    "print(s2)  #not in-place"
   ]
  },
  {
   "cell_type": "code",
   "execution_count": 30,
   "id": "044c728c-f2ec-43a0-b00c-b2231743a8cd",
   "metadata": {},
   "outputs": [
    {
     "data": {
      "text/plain": [
       "2"
      ]
     },
     "execution_count": 30,
     "metadata": {},
     "output_type": "execute_result"
    }
   ],
   "source": [
    "s2.count(\"python\")"
   ]
  },
  {
   "cell_type": "code",
   "execution_count": 31,
   "id": "0710cc4a-3c31-468a-88c1-d2c835fba962",
   "metadata": {},
   "outputs": [
    {
     "data": {
      "text/plain": [
       "['Hello', 'World', 'My', 'Name', 'Is', 'Abhishek']"
      ]
     },
     "execution_count": 31,
     "metadata": {},
     "output_type": "execute_result"
    }
   ],
   "source": [
    "s3= \"Hello#World#My#Name#Is#Abhishek\"\n",
    "s3.split(\"#\")"
   ]
  },
  {
   "cell_type": "code",
   "execution_count": 33,
   "id": "809f4d52-0368-40ad-a7c2-5f456be534b4",
   "metadata": {},
   "outputs": [
    {
     "data": {
      "text/plain": [
       "['Hello', 'World.', 'My', 'name', 'is', 'Abhishek']"
      ]
     },
     "execution_count": 33,
     "metadata": {},
     "output_type": "execute_result"
    }
   ],
   "source": [
    "s4= \"Hello World. My name is Abhishek\" #default delimiter is spacebar\n",
    "s4.split()"
   ]
  },
  {
   "cell_type": "code",
   "execution_count": 35,
   "id": "3a590030-b252-4a78-b67d-c233c9d01731",
   "metadata": {},
   "outputs": [
    {
     "data": {
      "text/plain": [
       "['Hello World', ' My name is Abhishek']"
      ]
     },
     "execution_count": 35,
     "metadata": {},
     "output_type": "execute_result"
    }
   ],
   "source": [
    "s4.split(\".\")"
   ]
  },
  {
   "cell_type": "code",
   "execution_count": 36,
   "id": "15437a53-98c4-4aa6-8185-7a3ea3e0bcbd",
   "metadata": {},
   "outputs": [
    {
     "data": {
      "text/plain": [
       "6"
      ]
     },
     "execution_count": 36,
     "metadata": {},
     "output_type": "execute_result"
    }
   ],
   "source": [
    "s4.find(\"World\")"
   ]
  },
  {
   "cell_type": "code",
   "execution_count": 1,
   "id": "56ce9617-76a3-492f-910a-f3531308ff1f",
   "metadata": {},
   "outputs": [
    {
     "name": "stdout",
     "output_type": "stream",
     "text": [
      "b is greater than a\n"
     ]
    }
   ],
   "source": [
    "a=10\n",
    "b=20\n",
    "\n",
    "if(a>b):\n",
    "    print(\"a is greater than b\")\n",
    "else:\n",
    "    print(\"b is greater than a\")"
   ]
  },
  {
   "cell_type": "code",
   "execution_count": 5,
   "id": "b4a0655f-c4be-45ee-8df7-c4b52714f7b7",
   "metadata": {},
   "outputs": [
    {
     "name": "stdout",
     "output_type": "stream",
     "text": [
      "b is the greatest element\n"
     ]
    }
   ],
   "source": [
    "a=17\n",
    "b=22\n",
    "c=15\n",
    "\n",
    "if(a>b and a>c):\n",
    "    print(\"a is the greatest element\")\n",
    "elif(b>a & b>c):\n",
    "    print(\"b is the greatest element\")\n",
    "else:\n",
    "    print(\"c is the greatest element\")"
   ]
  },
  {
   "cell_type": "code",
   "execution_count": 10,
   "id": "81298529-a19b-4eb5-b815-16f2cbf43900",
   "metadata": {},
   "outputs": [
    {
     "name": "stdout",
     "output_type": "stream",
     "text": [
      "2016  is a leap year!\n"
     ]
    }
   ],
   "source": [
    "year=2016\n",
    "if(year%400==0):\n",
    "    print(year, \" is a leap year!\")\n",
    "elif(year%4==0):\n",
    "    if(year%100==0):\n",
    "        print(year, \" is not leap year!\")\n",
    "    else:\n",
    "        print(year, \" is a leap year!\")\n",
    "else:\n",
    "    print(year, \"is not a leap year!\")"
   ]
  },
  {
   "cell_type": "code",
   "execution_count": 12,
   "id": "8ee672e7-5413-446c-9f6a-37eb1069b359",
   "metadata": {},
   "outputs": [
    {
     "name": "stdout",
     "output_type": "stream",
     "text": [
      "=\n"
     ]
    }
   ],
   "source": [
    "a = 330\n",
    "b = 330\n",
    "print(\"A\") if a > b else print(\"=\") if a == b else print(\"B\") #shorthand if else"
   ]
  },
  {
   "cell_type": "code",
   "execution_count": 4,
   "id": "1be1d3e1-4a41-498f-9b2a-f1d8db763957",
   "metadata": {},
   "outputs": [
    {
     "name": "stdout",
     "output_type": "stream",
     "text": [
      "Enter number to find its table upto 10: 6\n",
      "6 * 1 = 6\n",
      "6 * 2 = 12\n",
      "6 * 3 = 18\n",
      "6 * 4 = 24\n",
      "6 * 5 = 30\n",
      "6 * 6 = 36\n",
      "6 * 7 = 42\n",
      "6 * 8 = 48\n",
      "6 * 9 = 54\n",
      "6 * 10 = 60\n"
     ]
    }
   ],
   "source": [
    "#Table of a number,  27 march program 1 in file\n",
    "i=1\n",
    "a= int(input(\"Enter number to find its table upto 10: \"))\n",
    "while i<=10:\n",
    "    print(a,\"*\",i,\"=\",a*i)\n",
    "    i=i+1"
   ]
  },
  {
   "cell_type": "code",
   "execution_count": 9,
   "id": "ed5eae3c-ebd2-4c54-8320-bd0b0efc5383",
   "metadata": {},
   "outputs": [
    {
     "name": "stdout",
     "output_type": "stream",
     "text": [
      "Find the number to find its factorial: 6\n",
      "Factorial of  6  is  720\n"
     ]
    }
   ],
   "source": [
    "#Factorial of a number , 27 march program 2\n",
    "\n",
    "num = int(input(\"Find the number to find its factorial: \"))\n",
    "if(num==0 or num==1):\n",
    "    print(\"Factorial of \", num, \" is \", 1)\n",
    "    \n",
    "    \n",
    "elif(num<0):\n",
    "    print(\"Factorial for negative numbers is not defined!\")\n",
    "\n",
    "else:\n",
    "    i = num\n",
    "    res = 1\n",
    "    while i>1:\n",
    "        res*=i\n",
    "        i=i-1\n",
    "print(\"Factorial of \", num, \" is \", res)\n",
    "    "
   ]
  },
  {
   "cell_type": "code",
   "execution_count": 35,
   "id": "ed9211fa",
   "metadata": {},
   "outputs": [
    {
     "name": "stdout",
     "output_type": "stream",
     "text": [
      "Enter number to find its sum: 7\n",
      "Sum of digits is  7\n"
     ]
    }
   ],
   "source": [
    "#sum of digits, march 27 program 3\n",
    "\n",
    "summ=0\n",
    "num = int(input(\"Enter number to find its sum: \"))\n",
    "\n",
    "rem=0\n",
    "while(num!=0):\n",
    "    rem=num%10\n",
    "    summ+=rem\n",
    "    rem=0\n",
    "    num= num//10\n",
    "print(\"Sum of digits is \", summ)\n",
    "    \n",
    " \n",
    "\n",
    "\n",
    "\n"
   ]
  },
  {
   "cell_type": "code",
   "execution_count": 6,
   "id": "d9d8e995",
   "metadata": {},
   "outputs": [
    {
     "name": "stdout",
     "output_type": "stream",
     "text": [
      "Enter number to find its products: 0\n",
      "product of numbers is  0\n"
     ]
    }
   ],
   "source": [
    "#prod of digits, march 27 program 4\n",
    "\n",
    "prod=1\n",
    "num = int(input(\"Enter number to find its products: \"))\n",
    "rem=0\n",
    "if(num==0):\n",
    "    print(\"product of numbers is \",0)\n",
    "else:\n",
    "    while(num!=0):\n",
    "        rem=num%10\n",
    "        prod*=rem\n",
    "        rem=0\n",
    "        num= num//10\n",
    "    print(\"product of digits is \", prod)\n",
    "    \n",
    " "
   ]
  },
  {
   "cell_type": "code",
   "execution_count": 9,
   "id": "6c0c273d",
   "metadata": {},
   "outputs": [
    {
     "name": "stdout",
     "output_type": "stream",
     "text": [
      "Enter number to determine if its prime or not: 47\n",
      "47  is prime\n"
     ]
    }
   ],
   "source": [
    "# prime number, march 29 program 5\n",
    "\n",
    "num = int(input(\"Enter number to determine if its prime or not: \"))\n",
    "i = num//2\n",
    "flag=0\n",
    "\n",
    "if num==2:\n",
    "    print(num, \" is prime\")\n",
    "else:\n",
    "    while(i>=2):\n",
    "        if(num%i==0):\n",
    "            flag=1\n",
    "            break\n",
    "        i=i-1\n",
    "    if(flag==1):\n",
    "        print(num, \" is not prime\")\n",
    "    else:\n",
    "        print(num, \" is prime\")"
   ]
  },
  {
   "cell_type": "code",
   "execution_count": 14,
   "id": "9b7f66b6",
   "metadata": {},
   "outputs": [
    {
     "name": "stdout",
     "output_type": "stream",
     "text": [
      "Enter number to find its reverse 0\n",
      "Reverse of  0  is  0\n"
     ]
    }
   ],
   "source": [
    "#reverse of a number, march 29 program 6\n",
    "num = int(input(\"Enter number to find its reverse \"))\n",
    "num2 = num\n",
    "rev=0\n",
    "\n",
    "while(num2>0):\n",
    "    rev = (rev*10) + (num2%10)\n",
    "    num2 = num2//10\n",
    "print(\"Reverse of \", num, \" is \", rev)    \n",
    " \n",
    "\n"
   ]
  },
  {
   "cell_type": "code",
   "execution_count": 16,
   "id": "56b2df06",
   "metadata": {},
   "outputs": [
    {
     "name": "stdout",
     "output_type": "stream",
     "text": [
      "Enter number to find its reverse 434\n",
      "434  is a palindrome\n"
     ]
    }
   ],
   "source": [
    "#palindrome of a number, march 29 program 7\n",
    "\n",
    "num = int(input(\"Enter number to check palindrome \"))\n",
    "num2 = num\n",
    "rev=0\n",
    "\n",
    "while(num2>0):\n",
    "    rev = (rev*10) + (num2%10)\n",
    "    num2 = num2//10\n",
    "if(rev==num):\n",
    "    print(num, \" is a palindrome\")\n",
    "else:\n",
    "    print(num, \" is not a palindrome\")\n",
    "\n",
    "    "
   ]
  },
  {
   "cell_type": "code",
   "execution_count": null,
   "id": "da9a2a13",
   "metadata": {},
   "outputs": [],
   "source": [
    "def fibonacci(n):\n",
    "    a, b = 0, 1\n",
    "    for i in range(n):\n",
    "        print(a, end=\" \")\n",
    "        a, b = b, a + b\n",
    "\n",
    "n = int(input(\"Enter the number of terms: \"))\n",
    "fibonacci(n)\n"
   ]
  },
  {
   "cell_type": "code",
   "execution_count": 2,
   "id": "60976c70",
   "metadata": {},
   "outputs": [
    {
     "name": "stdout",
     "output_type": "stream",
     "text": [
      "Enter the number to search: 20\n",
      "The number is found at index  1\n"
     ]
    }
   ],
   "source": [
    "\n",
    "def linearSearch(arr, x):\n",
    "    for i in range(len(arr)):\n",
    "        if arr[i] == x:\n",
    "            return i\n",
    "    return -1\n",
    "\n",
    "arr = [10, 20, 30, 35, -42, 0, 1, -1]\n",
    "\n",
    "x = int(input(\"Enter the number to search: \"))\n",
    "\n",
    "index = linearSearch(arr, x)\n",
    "\n",
    "if index == -1:\n",
    "    print(\"The number is not found in the list.\")\n",
    "else:\n",
    "    print(\"The number is found at index \", index)\n",
    "\n"
   ]
  },
  {
   "cell_type": "code",
   "execution_count": 2,
   "id": "bed3c696",
   "metadata": {},
   "outputs": [
    {
     "name": "stdout",
     "output_type": "stream",
     "text": [
      "2 to the power of 0 is 1\n",
      "2 to the power of 1 is 2\n",
      "2 to the power of 2 is 4\n",
      "2 to the power of 3 is 8\n",
      "2 to the power of 4 is 16\n",
      "2 to the power of 5 is 32\n",
      "2 to the power of 6 is 64\n",
      "2 to the power of 7 is 128\n",
      "2 to the power of 8 is 256\n",
      "2 to the power of 9 is 512\n",
      "2 to the power of 10 is 1024\n",
      "2 to the power of 11 is 2048\n",
      "2 to the power of 12 is 4096\n"
     ]
    }
   ],
   "source": [
    "def powers_of_two():\n",
    "    exponent = 0\n",
    "    LAST = 12\n",
    "    while exponent <= LAST:\n",
    "        print(f\"2 to the power of {exponent} is {2**exponent}\")\n",
    "        exponent += 1\n",
    "\n",
    "powers_of_two()"
   ]
  },
  {
   "cell_type": "code",
   "execution_count": 2,
   "id": "86759a6c",
   "metadata": {},
   "outputs": [
    {
     "name": "stdout",
     "output_type": "stream",
     "text": [
      "Entered string: heLlOo WoOrLd\n",
      "Upper case form:  HELLOO WOORLD\n"
     ]
    }
   ],
   "source": [
    "#Q8\n",
    "def toUpperCase(input_str):\n",
    "    upperString=\"\"\n",
    "    for x in input_str:\n",
    "        if(ord(x)>=97 and ord(x)<=122):\n",
    "         upperString += chr(ord(x)-32) # adding the uppercase character to the string\n",
    "        else:\n",
    "         upperString += x\n",
    "    return upperString\n",
    "\n",
    "input_str = input(\"Enter string to be converted to uppercase: \")\n",
    "upperStr = toUpperCase(input_str)\n",
    "print(f\"Entered string: {input_str}\")\n",
    "print(\"Upper case form: \", upperStr)\n"
   ]
  },
  {
   "cell_type": "code",
   "execution_count": 6,
   "id": "e8c8c584",
   "metadata": {},
   "outputs": [
    {
     "name": "stdout",
     "output_type": "stream",
     "text": [
      "Employee name: jo\n",
      "Employee salary: 88\n"
     ]
    }
   ],
   "source": [
    "def showEmployee(employeeName, employeeSalary=50000):\n",
    "    \"\"\"Prints the employee's name and salary\"\"\"\n",
    "    print(f\"Employee name: {employeeName}\")\n",
    "    print(f\"Employee salary: {employeeSalary}\")\n",
    "\n",
    "employeeName = input(\"Enter employee name: \")\n",
    "employeeSalary = input(\"Enter employee salary (press enter for default value 50000): \")\n",
    "\n",
    "if employeeSalary == \"\":\n",
    "    showEmployee(employeeName)\n",
    "else:\n",
    "    showEmployee(employeeName, int(employeeSalary))\n"
   ]
  },
  {
   "cell_type": "code",
   "execution_count": 6,
   "id": "6e547561",
   "metadata": {},
   "outputs": [
    {
     "name": "stdout",
     "output_type": "stream",
     "text": [
      "Enter hyphen-separated words: abd-dawd-bbb\n",
      "Sorted words: abd-bbb-dawd\n"
     ]
    }
   ],
   "source": [
    "def hyphenSeparatedSort():\n",
    "    words = input(\"Enter hyphen-separated words: \")\n",
    "    wordsList = words.split(\"-\")\n",
    "    wordsList.sort(key=str.lower)\n",
    "    sortedWords = \"-\".join(wordsList)\n",
    "    print(f\"Sorted words: {sortedWords}\")\n",
    "\n",
    "hyphenSeparatedSort()\n"
   ]
  },
  {
   "cell_type": "code",
   "execution_count": 9,
   "id": "efd4ce2e",
   "metadata": {},
   "outputs": [
    {
     "name": "stdout",
     "output_type": "stream",
     "text": [
      "New date: 23-04-2023\n"
     ]
    }
   ],
   "source": [
    "from datetime import datetime, timedelta\n",
    "\n",
    "def addDaysToDate():\n",
    "    now = datetime.now()\n",
    "    dateStr = now.strftime(\"%d-%m-%Y\")\n",
    "    daysToAdd = int(input(\"Enter number of days to add: \"))\n",
    "\n",
    "    date = datetime.strptime(dateStr, \"%d-%m-%Y\")\n",
    "    newDate = date + timedelta(days=daysToAdd)\n",
    "    newDateStr = newDate.strftime(\"%d-%m-%Y\")\n",
    "\n",
    "    print(f\"New date: {newDateStr}\")\n",
    "\n",
    "addDaysToDate()\n"
   ]
  },
  {
   "cell_type": "code",
   "execution_count": 12,
   "id": "36055da7",
   "metadata": {},
   "outputs": [
    {
     "name": "stdout",
     "output_type": "stream",
     "text": [
      "New date: 20-4-2023\n"
     ]
    }
   ],
   "source": [
    "def add_days_to_date():\n",
    "    # Get current date as string input from user\n",
    "    date_str = input(\"Enter current date (format: dd-mm-yyyy): \")\n",
    "\n",
    "    # Convert date string to a list of integers\n",
    "    date_list = [int(num) for num in date_str.split(\"-\")]\n",
    "\n",
    "    # Get number of days to add from user\n",
    "    days_to_add = int(input(\"Enter number of days to add: \"))\n",
    "\n",
    "    # Add the specified number of days to the date\n",
    "    date_list[0] += days_to_add\n",
    "\n",
    "    # Convert the date back to string format\n",
    "    new_date_str = \"-\".join(str(num) for num in date_list)\n",
    "\n",
    "    # Print the new date\n",
    "    print(f\"New date: {new_date_str}\")\n",
    "\n",
    "add_days_to_date()\n"
   ]
  },
  {
   "cell_type": "code",
   "execution_count": null,
   "id": "9676bf64",
   "metadata": {},
   "outputs": [],
   "source": [
    "def check_lists_equal():\n",
    "    # Take two lists as input from the user\n",
    "    list1 = input(\"Enter the first list (comma-separated): \").split(\",\")\n",
    "    list2 = input(\"Enter the second list (comma-separated): \").split(\",\")\n",
    "\n",
    "    # Check if the lists are equal\n",
    "    if len(list1) != len(list2):\n",
    "        print(\"The lists are not equal.\")\n",
    "        return False\n",
    "    else:\n",
    "        for i in range(len(list1)):\n",
    "            if list1[i] != list2[i]:\n",
    "                print(\"The lists are not equal.\")\n",
    "                return False\n",
    "        print(\"The lists are equal.\")\n",
    "        return True\n"
   ]
  },
  {
   "cell_type": "code",
   "execution_count": null,
   "id": "c6c7a080",
   "metadata": {},
   "outputs": [
    {
     "name": "stdout",
     "output_type": "stream",
     "text": [
      "Enter a number: -2\n"
     ]
    }
   ],
   "source": [
    "def factorialRecursion(num):\n",
    "    if num == 0:\n",
    "        return 1\n",
    "    else:\n",
    "        return num * factorialRecursion(num-1)\n",
    "\n",
    "num = int(input(\"Enter a number: \"))\n",
    "result = factorialRecursion(num)\n",
    "print(f\"The factorial of {num} is {result}\")\n"
   ]
  },
  {
   "cell_type": "code",
   "execution_count": 3,
   "id": "d866b00d",
   "metadata": {},
   "outputs": [
    {
     "name": "stdout",
     "output_type": "stream",
     "text": [
      "Enter your name: Abhishek\\\n",
      "Enter age: 23\n",
      "Hello, My name is  Abhishek\\ \n",
      "I am  23  years old\n"
     ]
    }
   ],
   "source": [
    "# 24 may program for basic class\n",
    "class Person:\n",
    "    def __init__(self,name,age):\n",
    "        self.name = name\n",
    "        self.age = age\n",
    "      \n",
    "    \n",
    "    def myFunc(self):\n",
    "        print(\"Hello, My name is \", self.name, \"\\nI am \", self.age, \" years old\")\n",
    "        \n",
    "       \n",
    "name = input(\"Enter your name: \")\n",
    "age = int(input(\"Enter age: \"))\n",
    "\n",
    "p1 = Person(name, age)\n",
    "p1.myFunc()"
   ]
  },
  {
   "cell_type": "code",
   "execution_count": null,
   "id": "10b27e58",
   "metadata": {},
   "outputs": [],
   "source": [
    "#24 may program to show inheritance\n",
    "\n",
    "class Mobile:\n",
    "    def __init__(self,cost, color, os):\n",
    "        self.cost =  "
   ]
  },
  {
   "cell_type": "code",
   "execution_count": 5,
   "id": "70f20867",
   "metadata": {},
   "outputs": [
    {
     "name": "stdout",
     "output_type": "stream",
     "text": [
      "My car: Toyota Corolla (2022)\n",
      "The vehicle is accelerating.\n",
      "The vehicle is braking.\n",
      "The car is drifting.\n",
      "\n",
      "My motorcycle: Harley-Davidson Sportster (2021)\n",
      "The vehicle is accelerating.\n",
      "The vehicle is braking.\n",
      "The motorcycle is doing a wheelie.\n"
     ]
    }
   ],
   "source": [
    "\n",
    "class Vehicle:\n",
    "    def __init__(self, brand, model, year):\n",
    "        self.brand = brand\n",
    "        self.model = model\n",
    "        self.year = year\n",
    "\n",
    "    def accelerate(self):\n",
    "        print(\"The vehicle is accelerating.\")\n",
    "\n",
    "    def brake(self):\n",
    "        print(\"The vehicle is braking.\")\n",
    "\n",
    "\n",
    "\n",
    "class Car(Vehicle):\n",
    "    def __init__(self, brand, model, year, num_doors):\n",
    "        super().__init__(brand, model, year)\n",
    "        self.num_doors = num_doors\n",
    "\n",
    "    def drift(self):\n",
    "        print(\"The car is drifting.\")\n",
    "\n",
    "\n",
    "class Motorcycle(Vehicle):\n",
    "    def __init__(self, brand, model, year, num_wheels):\n",
    "        super().__init__(brand, model, year)\n",
    "        self.num_wheels = num_wheels\n",
    "\n",
    "    def wheelie(self):\n",
    "        print(\"The motorcycle is doing a wheelie.\")\n",
    "\n",
    "\n",
    "myCar = Car(\"Toyota\", \"Corolla\", 2022, 4)\n",
    "myMotorcycle = Motorcycle(\"Harley-Davidson\", \"Sportster\", 2021, 2)\n",
    "\n",
    "\n",
    "print(f\"My car: {my_car.brand} {my_car.model} ({my_car.year})\")\n",
    "myCar.accelerate()\n",
    "myCar.brake()\n",
    "myCar.drift()\n",
    "\n",
    "\n",
    "print(f\"\\nMy motorcycle: {my_motorcycle.brand} {my_motorcycle.model} ({my_motorcycle.year})\")\n",
    "myMotorcycle.accelerate()\n",
    "myMotorcycle.brake()\n",
    "myMotorcycle.wheelie()\n"
   ]
  },
  {
   "cell_type": "code",
   "execution_count": 6,
   "id": "d3734431",
   "metadata": {},
   "outputs": [
    {
     "name": "stdout",
     "output_type": "stream",
     "text": [
      "My car: Toyota Corolla (2022)\n",
      "The car is accelerating faaaaaaast.\n",
      "The vehicle is braking.\n",
      "The car is drifting.\n",
      "\n",
      "My motorcycle: Harley-Davidson Sportster (2021)\n",
      "The vehicle is accelerating.\n",
      "The vehicle is braking.\n",
      "The motorcycle is doing a wheelie.\n"
     ]
    }
   ],
   "source": [
    "class Vehicle:\n",
    "    def __init__(self, brand, model, year):\n",
    "        self.brand = brand\n",
    "        self.model = model\n",
    "        self.year = year\n",
    "\n",
    "    def accelerate(self):\n",
    "        print(\"The vehicle is accelerating.\")\n",
    "\n",
    "    def brake(self):\n",
    "        print(\"The vehicle is braking.\")\n",
    "\n",
    "\n",
    "class Car(Vehicle):\n",
    "    def __init__(self, brand, model, year, num_doors):\n",
    "        super().__init__(brand, model, year)\n",
    "        self.num_doors = num_doors\n",
    "\n",
    "    def accelerate(self):\n",
    "        print(\"The car is accelerating faaaaaaast.\")  # Method overridden\n",
    "\n",
    "    def drift(self):\n",
    "        print(\"The car is drifting.\")\n",
    "\n",
    "\n",
    "class Motorcycle(Vehicle):\n",
    "    def __init__(self, brand, model, year, num_wheels):\n",
    "        super().__init__(brand, model, year)\n",
    "        self.num_wheels = num_wheels\n",
    "\n",
    "    def wheelie(self):\n",
    "        print(\"The motorcycle is doing a wheelie.\")\n",
    "\n",
    "\n",
    "myCar = Car(\"Toyota\", \"Corolla\", 2022, 4)\n",
    "myMotorcycle = Motorcycle(\"Harley-Davidson\", \"Sportster\", 2021, 2)\n",
    "\n",
    "print(f\"My car: {myCar.brand} {myCar.model} ({myCar.year})\")\n",
    "myCar.accelerate()  # Overridden method is called\n",
    "myCar.brake()\n",
    "myCar.drift()\n",
    "\n",
    "print(f\"\\nMy motorcycle: {myMotorcycle.brand} {myMotorcycle.model} ({myMotorcycle.year})\")\n",
    "myMotorcycle.accelerate()  # Parent class method is called\n",
    "myMotorcycle.brake()\n",
    "myMotorcycle.wheelie()\n"
   ]
  },
  {
   "cell_type": "code",
   "execution_count": null,
   "id": "b5eb3965",
   "metadata": {},
   "outputs": [],
   "source": []
  }
 ],
 "metadata": {
  "kernelspec": {
   "display_name": "Python 3 (ipykernel)",
   "language": "python",
   "name": "python3"
  },
  "language_info": {
   "codemirror_mode": {
    "name": "ipython",
    "version": 3
   },
   "file_extension": ".py",
   "mimetype": "text/x-python",
   "name": "python",
   "nbconvert_exporter": "python",
   "pygments_lexer": "ipython3",
   "version": "3.8.5"
  }
 },
 "nbformat": 4,
 "nbformat_minor": 5
}
